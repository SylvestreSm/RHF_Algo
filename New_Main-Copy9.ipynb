{
 "cells": [
  {
   "cell_type": "code",
   "execution_count": null,
   "id": "7fa0e570",
   "metadata": {},
   "outputs": [],
   "source": [
    "import numpy as np\n",
    "import psi4\n",
    "from matplotlib import pyplot as plt"
   ]
  },
  {
   "cell_type": "code",
   "execution_count": null,
   "id": "6d97e49b",
   "metadata": {},
   "outputs": [],
   "source": [
    "def X_matrix(S):\n",
    "    evalues,U= np.linalg.eigh(S)\n",
    "    s=np.diag(1/np.sqrt(evalues))\n",
    "    X=np.matmul(np.matmul(U,s),np.conjugate(U.T)) #X=S^(-1/2)  \n",
    "    if verif_X_matrix(X,S):\n",
    "        return(X)\n",
    "    else: \n",
    "        print('problem with X')\n",
    "        return\n",
    "    \n",
    "def verif_X_matrix(X,S):\n",
    "    Xd=np.conjugate(X.T)\n",
    "    verif=np.matmul(Xd,np.matmul(S,X)) #verif=X^dagger*S*X\n",
    "    if ( abs(verif-np.identity(len(X)) )<(10**-10)).all():\n",
    "        return(True)\n",
    "    else:\n",
    "        return(False)\n"
   ]
  },
  {
   "cell_type": "code",
   "execution_count": null,
   "id": "a2521b7c",
   "metadata": {},
   "outputs": [],
   "source": [
    "\n",
    "def G_matrix(P,v):\n",
    "    n=len(P)\n",
    "    G=np.zeros((n,n))\n",
    "    for i in range(n):\n",
    "        for j in range(n):\n",
    "            for k in range(n):\n",
    "                for l in range(n):\n",
    "                    G[i,j]+=P[k,l]*(v[i][j][k][l]-0.5*v[i][l][k][j])\n",
    "    return(G)\n",
    "\n",
    "def Ortho_fmatrix(F,X):\n",
    "    FX=np.matmul(F,X)\n",
    "    return(np.matmul(np.conjugate(X.T),FX))\n"
   ]
  },
  {
   "cell_type": "code",
   "execution_count": null,
   "id": "ecb92250",
   "metadata": {},
   "outputs": [],
   "source": [
    "def coef_matrix(f,X):\n",
    "    energy,c = np.linalg.eigh(f)\n",
    "    C = np.matmul(X,c)\n",
    "    return(C)\n"
   ]
  },
  {
   "cell_type": "code",
   "execution_count": null,
   "id": "d813e50d",
   "metadata": {},
   "outputs": [],
   "source": [
    "def new_density_matrix(C,Bas_n,N):\n",
    "    P=np.zeros_like(C)\n",
    "    for i in range(Bas_n):\n",
    "        for j in range(Bas_n):\n",
    "            for a in range(int(N/2)):\n",
    "                P[i,j]+=2*C[i,a]*C[j,a]\n",
    "    return(P)\n"
   ]
  },
  {
   "cell_type": "code",
   "execution_count": null,
   "id": "15c91013",
   "metadata": {},
   "outputs": [],
   "source": [
    "#convergence de l'algo avec le commutateur\n",
    "\n",
    "def convergence(F,P,S,lim):\n",
    "    FPS=np.matmul(F,np.matmul(P,S))\n",
    "    SPF=np.matmul(S,np.matmul(P,F))\n",
    "    if (abs(FPS-SPF)<=lim).all():\n",
    "        return True\n",
    "    else:\n",
    "        return False"
   ]
  },
  {
   "cell_type": "code",
   "execution_count": null,
   "id": "caf44bed",
   "metadata": {},
   "outputs": [],
   "source": [
    "def SCF_energy(S,v,H,Bas_n,N,lim,max_iter,mol):\n",
    "    #Initialisation\n",
    "    X=X_matrix(S)\n",
    "    P=np.zeros((Bas_n,Bas_n))\n",
    "    New_Energy,Old_Energy=0,0\n",
    "    Vnn=mol.nuclear_repulsion_energy()\n",
    "    F=H\n",
    "    #Boucle convergence\n",
    "    for n_iter in range(max_iter):\n",
    "        #Calcul de la nouvelle matrice densité\n",
    "        f=Ortho_fmatrix(F,X)\n",
    "        C=coef_matrix(f,X)\n",
    "        P=new_density_matrix(C,Bas_n,N)\n",
    "        #Matrice de Fock\n",
    "        G=G_matrix(P,v)\n",
    "        F=H+G\n",
    "        #Calcul de l'énergie\n",
    "        Old_Energy=New_Energy \n",
    "        New_Energy=0.5*np.trace(np.matmul(P,H+F))\n",
    "        #Condition de convergence\n",
    "        if abs(New_Energy-Old_Energy)<lim:\n",
    "            return(New_Energy+Vnn)\n",
    "    print('Did not converge')\n",
    "    return(New_Energy+Vnn)\n"
   ]
  },
  {
   "cell_type": "code",
   "execution_count": null,
   "id": "6c5dd530",
   "metadata": {},
   "outputs": [],
   "source": [
    "def Diatomic_Energy(D,atome1,atome2,Basis_set):\n",
    "    # géométrie de la molécule\n",
    "    mol = psi4.geometry(\"\"\"\n",
    "    \"\"\"+atome1+\"\"\"  0.0 0.0 0.0 \n",
    "    \"\"\"+atome2+\"\"\"  0.0 \"\"\"+str(D)+\"\"\" 0.0\n",
    "\n",
    "    \"\"\")\n",
    "    #Paramètres de Psi4\n",
    "    geo_unit = psi4.core.GeometryUnits(0) # Distance en Angstrom\n",
    "    null=psi4.core.Molecule.set_units(mol,geo_unit) \n",
    "    null=psi4.core.Molecule.set_molecular_charge(mol,0) #Charge de la molécule\n",
    "    null=psi4.core.Molecule.set_multiplicity(mol,1) #Multiplicité\n",
    "    \n",
    "    #Fonction d'onde de la molécule\n",
    "    wf = psi4.core.Wavefunction.build(mol,basis=Basis_set)\n",
    "    #Différentes intégrales calculées par psi4\n",
    "    mints = psi4.core.MintsHelper(wf.basisset())\n",
    "    S = np.asarray(mints.ao_overlap()) #Recouvrement\n",
    "    v = np.asarray(mints.ao_eri()) #Intégrales biélectroniques\n",
    "    T = np.asarray(mints.ao_kinetic()) \n",
    "    V = np.asarray(mints.ao_potential())\n",
    "    H=T+V #Matrice Hamiltonienne\n",
    "    \n",
    "    Bas_n = S.shape[0] #Nombre d'atomiques orbitales utilisées\n",
    "    N= int(2*wf.nalpha()) #Nombre d'électrons\n",
    "    lim=10**(-8) #Critère de convergence\n",
    "    max_iter=100 \n",
    "    return(SCF_energy(S,v,H,Bas_n,N,lim,max_iter,mol))\n",
    "    "
   ]
  },
  {
   "cell_type": "code",
   "execution_count": null,
   "id": "6c5c48e7",
   "metadata": {},
   "outputs": [],
   "source": []
  }
 ],
 "metadata": {
  "kernelspec": {
   "display_name": "Python 3 (ipykernel)",
   "language": "python",
   "name": "python3"
  },
  "language_info": {
   "codemirror_mode": {
    "name": "ipython",
    "version": 3
   },
   "file_extension": ".py",
   "mimetype": "text/x-python",
   "name": "python",
   "nbconvert_exporter": "python",
   "pygments_lexer": "ipython3",
   "version": "3.8.16"
  }
 },
 "nbformat": 4,
 "nbformat_minor": 5
}
