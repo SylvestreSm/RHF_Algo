{
 "cells": [
  {
   "cell_type": "code",
   "execution_count": 8,
   "id": "99196ffe",
   "metadata": {},
   "outputs": [],
   "source": [
    "from math import *\n",
    "\n"
   ]
  },
  {
   "cell_type": "code",
   "execution_count": 19,
   "id": "65c4f800",
   "metadata": {},
   "outputs": [],
   "source": [
    "\n",
    "def acceleration_x(x,y,X,Y,K,N):\n",
    "    acc=0\n",
    "    for i in range(N):\n",
    "        acc+=-K[i]*(x-X[i])/Distance(x,y,X,Y,i)**3\n",
    "    return(acc)\n",
    "        \n",
    "def acceleration_y(x,y,X,Y,K,N):\n",
    "    acc=0\n",
    "    for i in range(N):\n",
    "        acc+=-K[i]*(y-Y[i])/Distance(x,y,X,Y,i)**3    \n",
    "    return(acc)\n",
    "   "
   ]
  },
  {
   "cell_type": "code",
   "execution_count": 20,
   "id": "9d08d9ed",
   "metadata": {},
   "outputs": [],
   "source": [
    "\n",
    "def Euler2D(current_x,current_y,current_V_x,current_V_y,dt):\n",
    "    next_V_x= current_V_x+ acceleration_x(current_x,current_y,X,Y,K,N)*dt\n",
    "    next_V_y= current_V_y+ acceleration_y(current_x,current_y,X,Y,K,N)*dt\n",
    "    next_x=current_x+current_V_x*dt\n",
    "    next_y=current_y+current_V_y*dt\n",
    "\n",
    "    return(next_x,next_y,next_V_x,next_V_y)    \n",
    "   "
   ]
  },
  {
   "cell_type": "code",
   "execution_count": 21,
   "id": "d2a43715",
   "metadata": {},
   "outputs": [],
   "source": [
    "def Distance(x,y,X,Y,i) : \n",
    "    return sqrt((x-X[i])**2+(y-Y[i])**2)\n"
   ]
  },
  {
   "cell_type": "code",
   "execution_count": 25,
   "id": "aa493297",
   "metadata": {},
   "outputs": [],
   "source": [
    "def convergence(current_x,current_y,X,Y,N,Dist_max,Rayon):\n",
    "    for i in range(N):\n",
    "        if Distance(current_x,current_y,X,Y,i)<=Rayon[i]:\n",
    "            return('convergence',i)\n",
    "            \n",
    "            \n",
    "    if Distance(current_x,current_y,[0],[0],0)>=Dist_max:\n",
    "        return('divergence',N)\n",
    "\n",
    "    return('run')\n",
    "        "
   ]
  },
  {
   "cell_type": "code",
   "execution_count": 44,
   "id": "793cb09a",
   "metadata": {},
   "outputs": [],
   "source": [
    "\n",
    "\n",
    "#conditions initiales\n",
    "\n",
    "N = 1\n",
    "k_0 = 10000\n",
    "#k_1 = 1\n",
    "#k_2 = 1\n",
    "x_plot0 = 0\n",
    "#\"x_plot1 = 0\n",
    "#x_plot2 = 0\n",
    "y_plot0 = 0\n",
    "#y_plot1 = 0\n",
    "#y_plot2 = 0\n",
    "\n",
    "current_x =5\n",
    "current_y =0\n",
    "current_V_x =0\n",
    "current_V_y =0\n",
    "\n",
    "#liste position des plots\n",
    "X=[x_plot0]#,x_plot1,x_plot2]\n",
    "Y=[y_plot0]#,y_plot1,y_plot2]\n",
    "K=[k_0]#,k_1,k_2]\n",
    "\n",
    "#Def pas temporel\n",
    "dt=1e-6\n",
    "t=0\n",
    "#rayons des plots\n",
    "Rayon=[2]\n",
    "Dist_max=2000\n",
    "#methode euler\n",
    "# nombre de plots N"
   ]
  },
  {
   "cell_type": "code",
   "execution_count": null,
   "id": "e98738d0",
   "metadata": {},
   "outputs": [],
   "source": [
    "\n",
    "\n",
    "while True:\n",
    "    current_x,current_y,current_V_x,current_V_y =Euler2D(current_x,current_y,current_V_x,current_V_y,dt)\n",
    "    if convergence(current_x,current_y,X,Y,N,Dist_max,Rayon)[0]==('divergence' or 'convergence'):\n",
    "        break\n",
    "    t+=dt\n",
    "    print(current_x,current_V_x,acceleration_x(current_x,current_y,X,Y,K,N),convergence(current_x,current_y,X,Y,N,Dist_max,Rayon))\n",
    "    \n",
    "    \n"
   ]
  },
  {
   "cell_type": "code",
   "execution_count": null,
   "id": "241cbf06",
   "metadata": {},
   "outputs": [],
   "source": []
  },
  {
   "cell_type": "code",
   "execution_count": null,
   "id": "73be21b9",
   "metadata": {},
   "outputs": [],
   "source": []
  },
  {
   "cell_type": "code",
   "execution_count": null,
   "id": "8df65354",
   "metadata": {},
   "outputs": [],
   "source": []
  }
 ],
 "metadata": {
  "kernelspec": {
   "display_name": "Python 3 (ipykernel)",
   "language": "python",
   "name": "python3"
  },
  "language_info": {
   "codemirror_mode": {
    "name": "ipython",
    "version": 3
   },
   "file_extension": ".py",
   "mimetype": "text/x-python",
   "name": "python",
   "nbconvert_exporter": "python",
   "pygments_lexer": "ipython3",
   "version": "3.9.7"
  }
 },
 "nbformat": 4,
 "nbformat_minor": 5
}
