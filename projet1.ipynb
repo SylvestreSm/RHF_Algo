{
 "cells": [
  {
   "cell_type": "code",
   "execution_count": 134,
   "id": "7fa0e570",
   "metadata": {},
   "outputs": [],
   "source": [
    "import numpy as np\n",
    "import time\n",
    "import psi4\n",
    "from IPython.display import HTML\n",
    "import random\n"
   ]
  },
  {
   "cell_type": "code",
   "execution_count": 135,
   "id": "6d97e49b",
   "metadata": {},
   "outputs": [],
   "source": [
    "# fonction calcul X=Us^-1/2U^dagger à partir de matrice overlap S, une matrice overlap n'a que des\n",
    "# valeurs propres strictement positives (définie positive), donc pas de problèmes pour calculer s=np.diag(1/np.sqrt(evalues))\n",
    "\n",
    "    \n",
    "def verif_X_matrix(X,S):\n",
    "    Xh=np.conjugate(X.T)\n",
    "    n=len(X)\n",
    "    verif=np.matmul(Xh,np.matmul(S,X))\n",
    "    if (abs(verif-np.identity(n))<10**-14).all():\n",
    "        return True\n",
    "    else:\n",
    "        return(False)\n",
    "\n",
    "def X_matrix(S):\n",
    "    evalues,U= np.linalg.eigh(S) \n",
    "    s=np.diag(1/np.sqrt(evalues))#matric diagonale avec l'inverse des racines des valeurs propres\n",
    "\n",
    "    X=np.matmul(np.matmul(U,s),np.conjugate(U.T)) #X=Us^(-1/2)U*\n",
    "    if verif_X_matrix(X,S):\n",
    "        return(X)\n",
    "    else: \n",
    "        return('error')\n"
   ]
  },
  {
   "cell_type": "code",
   "execution_count": 136,
   "id": "a2521b7c",
   "metadata": {},
   "outputs": [],
   "source": [
    "#Calcul de F a l'aide de la matrice densité F= H + G\n",
    "def G_matrix(P,v):\n",
    "    n=len(P)\n",
    "    G=np.zeros((n,n))\n",
    "    for i in range(n):\n",
    "        for j in range(n):\n",
    "            G_ij=0\n",
    "            for k in range(n):\n",
    "                for l in range(n):\n",
    "                    G_ij+=P[k,l]*(v[i][j][k][l]-0.5*v[i][l][k][j])\n",
    "            G[i,j]=G_ij\n",
    "    return(G)\n",
    "    \n",
    "#fonction calcul  F'=X*FX\n",
    "\n",
    "def new_fock_matrix(F,X):\n",
    "    FX=np.matmul(F,X)\n",
    "    return(np.matmul(np.conjugate(X.T),FX))"
   ]
  },
  {
   "cell_type": "code",
   "execution_count": 137,
   "id": "ecb92250",
   "metadata": {},
   "outputs": [],
   "source": [
    "#calcul matrice C des coefs\n",
    "\n",
    "def coef_matrix(f,X):\n",
    "    energy,c=np.linalg.eigh(f)\n",
    "    C=np.matmul(X,c)\n",
    "    return(C)"
   ]
  },
  {
   "cell_type": "code",
   "execution_count": 138,
   "id": "d813e50d",
   "metadata": {},
   "outputs": [],
   "source": [
    "#calcul nouvelle matrice densité\n",
    "def new_density_matrix(C):\n",
    "    return(2*np.matmul(C,np.conjugate(C.T)))\n"
   ]
  },
  {
   "cell_type": "code",
   "execution_count": 139,
   "id": "15c91013",
   "metadata": {},
   "outputs": [],
   "source": [
    "#convergence de l'algo avec le commutateur\n",
    "def convergence(F,P,S,lim):\n",
    "    FPS=np.matmul(F,np.matmul(P,S))\n",
    "    SPF=np.matmul(S,np.matmul(P,F))\n",
    "    if (abs(FPS-SPF)<=lim).all():\n",
    "        return True\n",
    "    else:\n",
    "        return False\n",
    "    \n",
    "\n",
    "    "
   ]
  },
  {
   "cell_type": "code",
   "execution_count": 140,
   "id": "ff002385",
   "metadata": {},
   "outputs": [],
   "source": [
    "psi4.set_memory('500 MB')\n",
    "\n",
    "mol = psi4.geometry(\"\"\"\n",
    "H  0.0  0.000000  0.0\n",
    "H  0.75  0.000000  0.0\n",
    "\n",
    "\"\"\")\n",
    "\n",
    "\n",
    "geo_unit = psi4.core.GeometryUnits(0) # Angstrom:0 , bohr:1\n",
    "null=psi4.core.Molecule.set_units(mol,geo_unit)\n",
    "null=psi4.core.Molecule.set_molecular_charge(mol,0)\n",
    "null=psi4.core.Molecule.set_multiplicity(mol,1)\n"
   ]
  },
  {
   "cell_type": "code",
   "execution_count": 141,
   "id": "12dee6c2",
   "metadata": {},
   "outputs": [],
   "source": [
    "wf = psi4.core.Wavefunction.build(mol,basis='sto-3g')\n",
    "mints = psi4.core.MintsHelper(wf.basisset())\n",
    "\n",
    "\n",
    "# Overlap\n",
    "S = np.array(mints.ao_overlap())\n",
    "# Intégrales biélectroniques (ERI: Electronic Repulsion Integrals)\n",
    "v = np.asarray(mints.ao_eri())\n",
    "T = np.asarray(mints.ao_kinetic())\n",
    "V = np.asarray(mints.ao_potential())\n",
    "# intégrale monoéléctronique\n",
    "H=T+V\n"
   ]
  },
  {
   "cell_type": "code",
   "execution_count": 142,
   "id": "c714a665",
   "metadata": {},
   "outputs": [
    {
     "name": "stdout",
     "output_type": "stream",
     "text": [
      "[[0. 0.]\n",
      " [0. 0.]]\n"
     ]
    }
   ],
   "source": [
    "X=X_matrix(S)\n",
    "P=np.zeros_like(H)\n",
    "print(P)\n",
    "lim=10**(-14)"
   ]
  },
  {
   "cell_type": "code",
   "execution_count": 147,
   "id": "caf44bed",
   "metadata": {},
   "outputs": [
    {
     "name": "stdout",
     "output_type": "stream",
     "text": [
      "\n",
      "0.1959141897058292\n"
     ]
    }
   ],
   "source": [
    "n=50\n",
    "print()\n",
    "for i in range(n):\n",
    "    G=G_matrix(P,v)\n",
    "    F=H+G\n",
    "    f=new_fock_matrix(F,X)\n",
    "    C=coef_matrix(f,X)\n",
    "    P=new_density_matrix(C) \n",
    "    \n",
    "print(0.5*np.trace(np.matmul(P,H+F)))\n",
    "    "
   ]
  },
  {
   "cell_type": "code",
   "execution_count": null,
   "id": "02d36a99",
   "metadata": {},
   "outputs": [],
   "source": []
  },
  {
   "cell_type": "code",
   "execution_count": null,
   "id": "e3b85a6e",
   "metadata": {},
   "outputs": [],
   "source": []
  },
  {
   "cell_type": "code",
   "execution_count": null,
   "id": "15fea018",
   "metadata": {},
   "outputs": [],
   "source": []
  },
  {
   "cell_type": "code",
   "execution_count": null,
   "id": "2793a3ce",
   "metadata": {},
   "outputs": [],
   "source": []
  }
 ],
 "metadata": {
  "kernelspec": {
   "display_name": "Python 3 (ipykernel)",
   "language": "python",
   "name": "python3"
  },
  "language_info": {
   "codemirror_mode": {
    "name": "ipython",
    "version": 3
   },
   "file_extension": ".py",
   "mimetype": "text/x-python",
   "name": "python",
   "nbconvert_exporter": "python",
   "pygments_lexer": "ipython3",
   "version": "3.8.13"
  }
 },
 "nbformat": 4,
 "nbformat_minor": 5
}
