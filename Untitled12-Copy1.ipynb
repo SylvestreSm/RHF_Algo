{
 "cells": [
  {
   "cell_type": "code",
   "execution_count": 11,
   "id": "7fa0e570",
   "metadata": {},
   "outputs": [
    {
     "data": {
      "text/html": [
       "\n",
       "        <script>\n",
       "            function code_toggle_12533817845854869798() {\n",
       "                $('div.cell.code_cell.rendered.selected').find('div.input').toggle();\n",
       "            }\n",
       "\n",
       "            \n",
       "        </script>\n",
       "\n",
       "        <a href=\"javascript:code_toggle_12533817845854869798()\">Show/Hide</a>\n",
       "    "
      ],
      "text/plain": [
       "<IPython.core.display.HTML object>"
      ]
     },
     "execution_count": 11,
     "metadata": {},
     "output_type": "execute_result"
    }
   ],
   "source": [
    "import numpy as np\n",
    "import time\n",
    "import psi4\n",
    "from IPython.display import HTML\n",
    "import random\n",
    "\n",
    "def hide_toggle(for_next=False):\n",
    "    this_cell = \"\"\"$('div.cell.code_cell.rendered.selected')\"\"\"\n",
    "    next_cell = this_cell + '.next()'\n",
    "\n",
    "    toggle_text = 'Show/Hide'  # text shown on toggle link\n",
    "    target_cell = this_cell  # target cell to control with toggle\n",
    "    js_hide_current = ''  # bit of JS to permanently hide code in current cell (only when toggling next cell)\n",
    "\n",
    "    if for_next:\n",
    "        target_cell = next_cell\n",
    "        toggle_text += ' next cell'\n",
    "        js_hide_current = this_cell + '.find(\"div.input\").hide();'\n",
    "\n",
    "    js_f_name = 'code_toggle_{}'.format(str(random.randint(1,2**64)))\n",
    "\n",
    "    html = \"\"\"\n",
    "        <script>\n",
    "            function {f_name}() {{\n",
    "                {cell_selector}.find('div.input').toggle();\n",
    "            }}\n",
    "\n",
    "            {js_hide_current}\n",
    "        </script>\n",
    "\n",
    "        <a href=\"javascript:{f_name}()\">{toggle_text}</a>\n",
    "    \"\"\".format(\n",
    "        f_name=js_f_name,\n",
    "        cell_selector=target_cell,\n",
    "        js_hide_current=js_hide_current, \n",
    "        toggle_text=toggle_text\n",
    "    )\n",
    "\n",
    "    return HTML(html)\n",
    "\n",
    "hide_toggle()"
   ]
  },
  {
   "cell_type": "code",
   "execution_count": 12,
   "id": "6d97e49b",
   "metadata": {},
   "outputs": [
    {
     "data": {
      "text/html": [
       "\n",
       "        <script>\n",
       "            function code_toggle_13504835536596452206() {\n",
       "                $('div.cell.code_cell.rendered.selected').find('div.input').toggle();\n",
       "            }\n",
       "\n",
       "            \n",
       "        </script>\n",
       "\n",
       "        <a href=\"javascript:code_toggle_13504835536596452206()\">Show/Hide</a>\n",
       "    "
      ],
      "text/plain": [
       "<IPython.core.display.HTML object>"
      ]
     },
     "execution_count": 12,
     "metadata": {},
     "output_type": "execute_result"
    }
   ],
   "source": [
    "# fonction calcul X=Us^-1/2U^dagger à partir de matrice overlap S, une matrice overlap n'a que des\n",
    "# valeurs propres strictement positives (définie positive), donc pas de problèmes pour calculer s=np.diag(1/np.sqrt(evalues))\n",
    "\n",
    "def X_matrix(S):\n",
    "    evalues,U= np.linalg.eigh(S) \n",
    "    s=np.diag(1/np.sqrt(evalues))#matric diagonale avec l'inverse des racines des valeurs propres\n",
    "\n",
    "    X=np.matmul(np.matmul(U,s),np.conjugate(U.T)) #X=Us^(-1/2)U*\n",
    "    return(X)\n",
    "    \n",
    "def verif_X_matrix(X,S):\n",
    "    Xh=np.conjugate(X.T)\n",
    "    n=len(X)\n",
    "    verif=np.matmul(Xh,np.matmul(S,X))\n",
    "    if (abs(verif-np.identity(n))<10**-14).all():\n",
    "        return True\n",
    "    else:\n",
    "        return(False)\n",
    "hide_toggle()"
   ]
  },
  {
   "cell_type": "code",
   "execution_count": 13,
   "id": "a2521b7c",
   "metadata": {},
   "outputs": [],
   "source": [
    "#Calcul de F a l'aide de la matrice densité F= H + G\n",
    "def G_matrix(P,v):\n",
    "    n=len(P)\n",
    "    G=np.zeros((n,n))\n",
    "    for i in range(n):\n",
    "        for j in range(n):\n",
    "            G_ij=0\n",
    "            for k in range(n):\n",
    "                for l in range(n):\n",
    "                    G_ij+=P[k,l]*(v[i][j][k][l]-0.5*v[i][l][k][j])\n",
    "            G[i,j]=G_ij\n",
    "    return(G)\n",
    "    \n",
    "#fonction calcul  F'=X*FX\n",
    "\n",
    "def new_fock_matrix(F,X):\n",
    "    FX=np.matmul(F,X)\n",
    "    return(np.matmul(np.conjugate(X.T),FX))"
   ]
  },
  {
   "cell_type": "code",
   "execution_count": 14,
   "id": "ecb92250",
   "metadata": {},
   "outputs": [],
   "source": [
    "#calcul matrice C des coefs et énergies\n",
    "\n",
    "def coef_matrix_energy(f,X):\n",
    "    energy,c=np.linalg.eigh(f)\n",
    "    C=np.matmul(X,c)\n",
    "    return(C,energy)\n"
   ]
  },
  {
   "cell_type": "code",
   "execution_count": 15,
   "id": "d813e50d",
   "metadata": {},
   "outputs": [],
   "source": [
    "#calcul nouvelle matrice densité\n",
    "def new_density_matrix(C):\n",
    "    return(2*np.matmul(C,np.conjugate(C.T)))\n"
   ]
  },
  {
   "cell_type": "code",
   "execution_count": 16,
   "id": "15c91013",
   "metadata": {},
   "outputs": [],
   "source": [
    "#convergence de l'algo avec le commutateur\n",
    "def convergence(F,P,S,lim):\n",
    "    FPS=np.matmul(F,np.matmul(P,S))\n",
    "    SPF=np.matmul(S,np.matmul(P,F))\n",
    "    if (abs(FPS-SPF)<=lim).all():\n",
    "        return True\n",
    "    else:\n",
    "        return False\n",
    "    \n",
    "\n",
    "    "
   ]
  },
  {
   "cell_type": "code",
   "execution_count": 45,
   "id": "ff002385",
   "metadata": {},
   "outputs": [],
   "source": [
    "psi4.set_memory('500 MB')\n",
    "\n",
    "mol = psi4.geometry(\"\"\"\n",
    "H  0.0  0.000000  0.0\n",
    "H  0.758602  0.000000  0.0\"\"\")\n",
    "\n",
    "# Unité utilisée pour la géométrie de mol\n",
    "geo_unit = psi4.core.GeometryUnits(0) # 0 -> Angstrom, 1-> Bohr\n",
    "null=psi4.core.Molecule.set_units(mol,geo_unit)\n",
    "\n",
    "# Charge totale de la molécule mol(0)\n",
    "null=psi4.core.Molecule.set_molecular_charge(mol,0)\n",
    "\n",
    "# Multiplicité de spin de la molécule mol, m = 2 S + 1\n",
    "null=psi4.core.Molecule.set_multiplicity(mol,1)\n",
    "\n",
    "# Affichage des coordonnées cartésiennes\n",
    "null=psi4.core.Molecule.print_out(mol)\n"
   ]
  },
  {
   "cell_type": "code",
   "execution_count": 47,
   "id": "12dee6c2",
   "metadata": {},
   "outputs": [],
   "source": [
    "# Création d'un objet Wavefunction wf à partir d'un objet Molecule mol et d'une base\n",
    "wf = psi4.core.Wavefunction.build(mol,basis='sto-3g')\n",
    "# Création d'un objet MintsHelper mints à parttir d'un objet BasisSet.\n",
    "# On créé un objet BasisSet à partir de l'objet Wavefunction wf comme wf.basisset()\n",
    "# L'objet MintsHelper mints contient différentes intégrales dont on a besoin\n",
    "mints = psi4.core.MintsHelper(wf.basisset())\n",
    "# Overlap\n",
    "S = np.array(mints.ao_overlap())\n",
    "# Intégrales biélectroniques (ERI: Electronic Repulsion Integrals)\n",
    "v = np.asarray(mints.ao_eri())\n",
    "enn=mol.nuclear_repulsion_energy()\n",
    "# Kinetic integrals\n",
    "T = np.asarray(mints.ao_kinetic())\n",
    "# Potential integrals\n",
    "V = np.asarray(mints.ao_potential())\n",
    "# intégrale monoéléctronique\n",
    "H=T+V\n"
   ]
  },
  {
   "cell_type": "code",
   "execution_count": 34,
   "id": "c714a665",
   "metadata": {},
   "outputs": [
    {
     "name": "stdout",
     "output_type": "stream",
     "text": [
      "True\n"
     ]
    }
   ],
   "source": [
    "X=X_matrix(S)\n",
    "print(verif_X_matrix(X,S)) \n",
    "P=np.zeros_like(H)\n",
    "converged=False\n",
    "lim=10**(-15)\n",
    "E=0\n",
    "i=0\n",
    "nE=0"
   ]
  },
  {
   "cell_type": "code",
   "execution_count": 35,
   "id": "caf44bed",
   "metadata": {},
   "outputs": [
    {
     "name": "stdout",
     "output_type": "stream",
     "text": [
      "converged\n",
      "0.1857097355614732\n"
     ]
    }
   ],
   "source": [
    "n=5\n",
    "for i in range(n):\n",
    "    G=G_matrix(P,v)\n",
    "    F=H+G\n",
    "    f=new_fock_matrix(F,X)\n",
    "    C=coef_matrix_energy(f,X)[0]\n",
    "    P=new_density_matrix(C)\n",
    "#    converged=convergence(F,P,S,lim)\n",
    "    \n",
    "print('converged')    \n",
    "print(0.5*np.trace(np.matmul(P,H+F)))\n",
    "    "
   ]
  },
  {
   "cell_type": "code",
   "execution_count": 39,
   "id": "02d36a99",
   "metadata": {},
   "outputs": [
    {
     "name": "stdout",
     "output_type": "stream",
     "text": [
      "\n",
      " E(HF)= -1.128668 Ha\n"
     ]
    }
   ],
   "source": [
    "E_hf=psi4.energy('hf/cc-pvdz') \n",
    "\n",
    "print(\"\\n E(HF)= {:6f} Ha\".format(E_hf))"
   ]
  },
  {
   "cell_type": "code",
   "execution_count": null,
   "id": "e3b85a6e",
   "metadata": {},
   "outputs": [],
   "source": []
  },
  {
   "cell_type": "code",
   "execution_count": null,
   "id": "15fea018",
   "metadata": {},
   "outputs": [],
   "source": []
  },
  {
   "cell_type": "code",
   "execution_count": null,
   "id": "5f354668",
   "metadata": {},
   "outputs": [],
   "source": []
  }
 ],
 "metadata": {
  "kernelspec": {
   "display_name": "Python 3 (ipykernel)",
   "language": "python",
   "name": "python3"
  },
  "language_info": {
   "codemirror_mode": {
    "name": "ipython",
    "version": 3
   },
   "file_extension": ".py",
   "mimetype": "text/x-python",
   "name": "python",
   "nbconvert_exporter": "python",
   "pygments_lexer": "ipython3",
   "version": "3.8.13"
  }
 },
 "nbformat": 4,
 "nbformat_minor": 5
}
