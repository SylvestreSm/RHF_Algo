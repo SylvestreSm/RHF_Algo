{
 "cells": [
  {
   "cell_type": "code",
   "execution_count": 1,
   "id": "7fa0e570",
   "metadata": {},
   "outputs": [],
   "source": [
    "import numpy as np\n",
    "import psi4\n",
    "from matplotlib import pyplot as plt\n",
    "from matplotlib import cm\n",
    "from matplotlib.ticker import LinearLocator\n",
    "import random\n",
    "from IPython.display import HTML"
   ]
  },
  {
   "cell_type": "code",
   "execution_count": 2,
   "id": "9818f482",
   "metadata": {},
   "outputs": [
    {
     "data": {
      "text/html": [
       "\n",
       "        <script>\n",
       "            function code_toggle_1876859175195983789() {\n",
       "                $('div.cell.code_cell.rendered.selected').find('div.input').toggle();\n",
       "            }\n",
       "\n",
       "            \n",
       "        </script>\n",
       "\n",
       "        <a href=\"javascript:code_toggle_1876859175195983789()\">Show/Hide</a>\n",
       "    "
      ],
      "text/plain": [
       "<IPython.core.display.HTML object>"
      ]
     },
     "execution_count": 2,
     "metadata": {},
     "output_type": "execute_result"
    }
   ],
   "source": [
    "\n",
    "def hide_toggle(for_next=False):\n",
    "    this_cell = \"\"\"$('div.cell.code_cell.rendered.selected')\"\"\"\n",
    "    next_cell = this_cell + '.next()'\n",
    "\n",
    "    toggle_text = 'Show/Hide'  # text shown on toggle link\n",
    "    target_cell = this_cell  # target cell to control with toggle\n",
    "    js_hide_current = ''  # bit of JS to permanently hide code in current cell (only when toggling next cell)\n",
    "\n",
    "    if for_next:\n",
    "        target_cell = next_cell\n",
    "        toggle_text += ' next cell'\n",
    "        js_hide_current = this_cell + '.find(\"div.input\").hide();'\n",
    "\n",
    "    js_f_name = 'code_toggle_{}'.format(str(random.randint(1,2**64)))\n",
    "\n",
    "    html = \"\"\"\n",
    "        <script>\n",
    "            function {f_name}() {{\n",
    "                {cell_selector}.find('div.input').toggle();\n",
    "            }}\n",
    "\n",
    "            {js_hide_current}\n",
    "        </script>\n",
    "\n",
    "        <a href=\"javascript:{f_name}()\">{toggle_text}</a>\n",
    "    \"\"\".format(\n",
    "        f_name=js_f_name,\n",
    "        cell_selector=target_cell,\n",
    "        js_hide_current=js_hide_current, \n",
    "        toggle_text=toggle_text\n",
    "    )\n",
    "\n",
    "    return HTML(html)\n",
    "\n",
    "hide_toggle()"
   ]
  },
  {
   "cell_type": "code",
   "execution_count": 3,
   "id": "6d97e49b",
   "metadata": {},
   "outputs": [
    {
     "data": {
      "text/html": [
       "\n",
       "        <script>\n",
       "            function code_toggle_9420643002321898518() {\n",
       "                $('div.cell.code_cell.rendered.selected').find('div.input').toggle();\n",
       "            }\n",
       "\n",
       "            \n",
       "        </script>\n",
       "\n",
       "        <a href=\"javascript:code_toggle_9420643002321898518()\">Show/Hide</a>\n",
       "    "
      ],
      "text/plain": [
       "<IPython.core.display.HTML object>"
      ]
     },
     "execution_count": 3,
     "metadata": {},
     "output_type": "execute_result"
    }
   ],
   "source": [
    "def X_matrix(S):\n",
    "    evalues,U= np.linalg.eigh(S) #S=U*evalues*Udagger\n",
    "    s=np.diag(1/np.sqrt(evalues))#matrice diagonale avec l'inverse des racines des valeurs propres\n",
    "\n",
    "    X=np.matmul(np.matmul(U,s),np.conjugate(U.T)) #X=Us^(-1/2)U*\n",
    "    #X=np.matmul(U,s) #X=Us^(-1/2)\n",
    "    \n",
    "    if verif_X_matrix(X,S):\n",
    "        return(X)\n",
    "    else: \n",
    "        print('problem with X')\n",
    "        return\n",
    "\n",
    "def verif_X_matrix(X,S):\n",
    "    Xh=np.conjugate(X.T)\n",
    "    n=len(X)\n",
    "    verif=np.matmul(Xh,np.matmul(S,X))\n",
    "    if (abs(verif-np.identity(n))<(10**-10)).all():\n",
    "        return True\n",
    "    else:\n",
    "        return(False)\n",
    "hide_toggle()"
   ]
  },
  {
   "cell_type": "code",
   "execution_count": 4,
   "id": "a2521b7c",
   "metadata": {},
   "outputs": [
    {
     "data": {
      "text/html": [
       "\n",
       "        <script>\n",
       "            function code_toggle_14032192058243671626() {\n",
       "                $('div.cell.code_cell.rendered.selected').find('div.input').toggle();\n",
       "            }\n",
       "\n",
       "            \n",
       "        </script>\n",
       "\n",
       "        <a href=\"javascript:code_toggle_14032192058243671626()\">Show/Hide</a>\n",
       "    "
      ],
      "text/plain": [
       "<IPython.core.display.HTML object>"
      ]
     },
     "execution_count": 4,
     "metadata": {},
     "output_type": "execute_result"
    }
   ],
   "source": [
    "#Calcul de F a l'aide de la matrice densité F= H + G\n",
    "def G_matrix(P,v):\n",
    "    n=len(P)\n",
    "    G=np.zeros((n,n))\n",
    "    for i in range(n):\n",
    "        for j in range(n):\n",
    "            for k in range(n):\n",
    "                for l in range(n):\n",
    "                    G[i,j]+=P[k,l]*(v[i][j][k][l]-0.5*v[i][l][k][j])\n",
    "    return(G)\n",
    "#  \n",
    "#fonction calcul  F'=X*FX\n",
    "\n",
    "def new_fock_matrix(F,X):\n",
    "    FX=np.matmul(F,X)\n",
    "    return(np.matmul(np.conjugate(X.T),FX))\n",
    "##\n",
    "hide_toggle()"
   ]
  },
  {
   "cell_type": "code",
   "execution_count": 5,
   "id": "ecb92250",
   "metadata": {},
   "outputs": [
    {
     "data": {
      "text/html": [
       "\n",
       "        <script>\n",
       "            function code_toggle_12188400668357212002() {\n",
       "                $('div.cell.code_cell.rendered.selected').find('div.input').toggle();\n",
       "            }\n",
       "\n",
       "            \n",
       "        </script>\n",
       "\n",
       "        <a href=\"javascript:code_toggle_12188400668357212002()\">Show/Hide</a>\n",
       "    "
      ],
      "text/plain": [
       "<IPython.core.display.HTML object>"
      ]
     },
     "execution_count": 5,
     "metadata": {},
     "output_type": "execute_result"
    }
   ],
   "source": [
    "#calcul matrice C=XC' des coefs\n",
    "\n",
    "def coef_matrix(f,X):\n",
    "    energy,c = np.linalg.eigh(f)\n",
    "    C = np.matmul(X,c)\n",
    "    return(C)\n",
    "hide_toggle()"
   ]
  },
  {
   "cell_type": "code",
   "execution_count": 6,
   "id": "d813e50d",
   "metadata": {},
   "outputs": [
    {
     "data": {
      "text/html": [
       "\n",
       "        <script>\n",
       "            function code_toggle_6913758196059223983() {\n",
       "                $('div.cell.code_cell.rendered.selected').find('div.input').toggle();\n",
       "            }\n",
       "\n",
       "            \n",
       "        </script>\n",
       "\n",
       "        <a href=\"javascript:code_toggle_6913758196059223983()\">Show/Hide</a>\n",
       "    "
      ],
      "text/plain": [
       "<IPython.core.display.HTML object>"
      ]
     },
     "execution_count": 6,
     "metadata": {},
     "output_type": "execute_result"
    }
   ],
   "source": [
    "def new_density_matrix(C,Bas_n,N):\n",
    "    P=np.zeros_like(C)\n",
    "    for i in range(Bas_n):\n",
    "        for j in range(Bas_n):\n",
    "            for a in range(int(N/2)):\n",
    "                P[i,j]+=2*C[i,a]*C[j,a]\n",
    "    return(P)\n",
    "hide_toggle()"
   ]
  },
  {
   "cell_type": "code",
   "execution_count": 7,
   "id": "15c91013",
   "metadata": {},
   "outputs": [
    {
     "data": {
      "text/html": [
       "\n",
       "        <script>\n",
       "            function code_toggle_9750802471177566894() {\n",
       "                $('div.cell.code_cell.rendered.selected').find('div.input').toggle();\n",
       "            }\n",
       "\n",
       "            \n",
       "        </script>\n",
       "\n",
       "        <a href=\"javascript:code_toggle_9750802471177566894()\">Show/Hide</a>\n",
       "    "
      ],
      "text/plain": [
       "<IPython.core.display.HTML object>"
      ]
     },
     "execution_count": 7,
     "metadata": {},
     "output_type": "execute_result"
    }
   ],
   "source": [
    "#convergence de l'algo avec le commutateur\n",
    "\n",
    "def convergence(F,P,S,lim):\n",
    "    FPS=np.matmul(F,np.matmul(P,S))\n",
    "    SPF=np.matmul(S,np.matmul(P,F))\n",
    "    if (abs(FPS-SPF)<=lim).all():\n",
    "        return True\n",
    "    else:\n",
    "        return False\n",
    "    \n",
    "hide_toggle()\n",
    "    "
   ]
  },
  {
   "cell_type": "code",
   "execution_count": 8,
   "id": "caf44bed",
   "metadata": {},
   "outputs": [
    {
     "data": {
      "text/html": [
       "\n",
       "        <script>\n",
       "            function code_toggle_15947359372500931775() {\n",
       "                $('div.cell.code_cell.rendered.selected').find('div.input').toggle();\n",
       "            }\n",
       "\n",
       "            \n",
       "        </script>\n",
       "\n",
       "        <a href=\"javascript:code_toggle_15947359372500931775()\">Show/Hide</a>\n",
       "    "
      ],
      "text/plain": [
       "<IPython.core.display.HTML object>"
      ]
     },
     "execution_count": 8,
     "metadata": {},
     "output_type": "execute_result"
    }
   ],
   "source": [
    "def SCF_energy(S,v,H,Bas_n,N,lim,max_iter,mol):\n",
    "    #initialisation\n",
    "    X=X_matrix(S)\n",
    "    P=np.zeros((Bas_n,Bas_n))\n",
    "\n",
    "    New_Energy=0\n",
    "    Old_Energy=0\n",
    "    \n",
    "    Enn=mol.nuclear_repulsion_energy()\n",
    "    \n",
    "    #Boucle convergence\n",
    "    F=H\n",
    "    for n_iter in range(max_iter):\n",
    "\n",
    "\n",
    "        \n",
    "        #Calcul de la nouvelle matrice densité\n",
    "        f=new_fock_matrix(F,X)\n",
    "        C=coef_matrix(f,X)\n",
    "        P=new_density_matrix(C,Bas_n,N)\n",
    "        \n",
    "        #Matrice de Fock\n",
    "        G=G_matrix(P,v)\n",
    "        F=H+G\n",
    "        \n",
    "        #Calcul de l'énergie\n",
    "        Old_Energy=New_Energy \n",
    "        New_Energy=0.5*np.trace(np.matmul(P,H+F))\n",
    "        \n",
    "        #Condition de convergence\n",
    "        \n",
    "        if n_iter!=0 and (abs(New_Energy-Old_Energy)<lim):\n",
    "            #print('Converged after', n_iter,'iterations')\n",
    "            #print(np.matmul(np.linalg.inv(C),np.matmul(F,C)))\n",
    "            return(New_Energy+Enn,C,P,F)\n",
    "    print('Did not converge')\n",
    "    return(New_Energy+Enn,C,P,F)\n",
    "\n",
    "hide_toggle()"
   ]
  },
  {
   "cell_type": "code",
   "execution_count": 73,
   "id": "6c5dd530",
   "metadata": {},
   "outputs": [
    {
     "data": {
      "text/html": [
       "\n",
       "        <script>\n",
       "            function code_toggle_17653368695975629541() {\n",
       "                $('div.cell.code_cell.rendered.selected').find('div.input').toggle();\n",
       "            }\n",
       "\n",
       "            \n",
       "        </script>\n",
       "\n",
       "        <a href=\"javascript:code_toggle_17653368695975629541()\">Show/Hide</a>\n",
       "    "
      ],
      "text/plain": [
       "<IPython.core.display.HTML object>"
      ]
     },
     "execution_count": 73,
     "metadata": {},
     "output_type": "execute_result"
    }
   ],
   "source": [
    "def Diatomic_Energy(Dist,at1,at2,Basis_set):\n",
    "# géométrie de la molécule\n",
    "    mol = psi4.geometry(\"\"\"\n",
    "    \"\"\"+at1+\"\"\"  0.0 0.0 0.0 \n",
    "    \"\"\"+at2+\"\"\"  0.0 \"\"\"+str(Dist)+\"\"\" 0.0\n",
    "\n",
    "    \"\"\")\n",
    "    \n",
    "\n",
    "    geo_unit = psi4.core.GeometryUnits(0) # Angstrom:0 , bohr:1\n",
    "    null=psi4.core.Molecule.set_units(mol,geo_unit)\n",
    "    null=psi4.core.Molecule.set_molecular_charge(mol,0)\n",
    "    null=psi4.core.Molecule.set_multiplicity(mol,1)\n",
    "    \n",
    "    #Fonction d'onde de la molécule\n",
    "    wf = psi4.core.Wavefunction.build(mol,basis=Basis_set)\n",
    "    mints = psi4.core.MintsHelper(wf.basisset())\n",
    "\n",
    "    #différentes intégrales calculées par psi4\n",
    "    S = np.asarray(mints.ao_overlap())\n",
    "    v = np.asarray(mints.ao_eri())\n",
    "    T = np.asarray(mints.ao_kinetic())\n",
    "    V = np.asarray(mints.ao_potential())\n",
    "    H=T+V\n",
    "    \n",
    "    #Différents paramètres pour l'algo\n",
    "    Bas_n = S.shape[0] #shape(H)=(Bas_n,Bas_n)\n",
    "    N= int(2*wf.nalpha())\n",
    "    lim=10**(-14)\n",
    "    max_iter=100\n",
    "    #calcul des énergies en Ha\n",
    "\n",
    "    HF_energy,C,P,F=SCF_energy(S,v,H,Bas_n,N,lim,max_iter,mol)\n",
    "    MP2_energy=HF_energy - MP_Energy(v,C,H,N,P,F)\n",
    "    #print('dif=',abs(MP2_energy-psi4.energy('mp2/'+Basis_set+'') ))\n",
    "    return(MP2_energy)\n",
    "    #return(psi4.energy('mp2/'+Basis_set+''))\n",
    "\n",
    "\n",
    "hide_toggle()"
   ]
  },
  {
   "cell_type": "code",
   "execution_count": 74,
   "id": "ec50bf2f",
   "metadata": {},
   "outputs": [
    {
     "data": {
      "text/html": [
       "\n",
       "        <script>\n",
       "            function code_toggle_2356504089701338382() {\n",
       "                $('div.cell.code_cell.rendered.selected').find('div.input').toggle();\n",
       "            }\n",
       "\n",
       "            \n",
       "        </script>\n",
       "\n",
       "        <a href=\"javascript:code_toggle_2356504089701338382()\">Show/Hide</a>\n",
       "    "
      ],
      "text/plain": [
       "<IPython.core.display.HTML object>"
      ]
     },
     "execution_count": 74,
     "metadata": {},
     "output_type": "execute_result"
    }
   ],
   "source": [
    "def water(Theta,Dist):\n",
    "    mol = psi4.geometry(\"\"\"\n",
    "    O  0.0  0.0  0.0\n",
    "    H  \"\"\"+str(Dist)+\"\"\"  0.0  0.0\n",
    "    H  \"\"\"+str(Dist*np.cos(Theta))+\"\"\"  \"\"\"+str(Dist*np.sin(Theta))+\"\"\"  0.0\n",
    "\n",
    "    \"\"\")\n",
    "\n",
    "    \n",
    "    geo_unit = psi4.core.GeometryUnits(0) # Angstrom:0 , bohr:1\n",
    "    null=psi4.core.Molecule.set_units(mol,geo_unit)\n",
    "    null=psi4.core.Molecule.set_molecular_charge(mol,0)\n",
    "    null=psi4.core.Molecule.set_multiplicity(mol,1)\n",
    "  \n",
    "\n",
    "\n",
    "    #Fonction d'onde de la molécule\n",
    "    wf = psi4.core.Wavefunction.build(mol,basis='sto-3g')\n",
    "    mints = psi4.core.MintsHelper(wf.basisset())\n",
    "\n",
    "    #différentes intégrales calculées par psi4\n",
    "    S = np.asarray(mints.ao_overlap())\n",
    "    v = np.asarray(mints.ao_eri())\n",
    "    T = np.asarray(mints.ao_kinetic())\n",
    "    V = np.asarray(mints.ao_potential())\n",
    "    H=T+V\n",
    "    \n",
    "    #Différents paramètres pour l'algo\n",
    "    Bas_n = S.shape[0] #shape(H)=(Bas_n,Bas_n)\n",
    "    N= int(2*wf.nalpha())\n",
    "    lim=10**(-7)\n",
    "    max_iter=100\n",
    "    #calcul des énergies en Ha\n",
    "\n",
    "    HF_energy,C,P,F=SCF_energy(S,v,H,Bas_n,N,lim,max_iter,mol)\n",
    "    MP2_energy=HF_energy - MP_Energy(v,C,H,N,P,F)\n",
    "    return(MP2_energy)\n",
    "    #return(SCF_energy(S,v,H,Bas_n,N,lim,max_iter,mol))\n",
    "hide_toggle()"
   ]
  },
  {
   "cell_type": "code",
   "execution_count": 75,
   "id": "1eb1ba76",
   "metadata": {},
   "outputs": [],
   "source": [
    "def Two_e_int_MO(v,C):\n",
    "    #v = v.transpose(0, 2, 1, 3)\n",
    "    INLS=np.einsum('mi,mnls->imls',C,v)\n",
    "    IJLS=np.einsum('nj,inls->ijls',C,INLS)\n",
    "    IJKS=np.einsum('lk,ijls->ijks',C,IJLS)\n",
    "    IJKL=np.einsum('sl,ijks->ijkl',C,IJKS)\n",
    "    return(IJKL)\n",
    "   # return(np.einsum(\"uvkl, up, vq, kr, ls -> pqrs\", v, C,C, C, C))\n",
    "\n",
    "def FMatrix_OM2(H,v_OM,C,P):\n",
    "    C_conj=np.conjugate(C)\n",
    "    H_OM=np.einsum('im,jn,mn->ij',C_conj,C,H)\n",
    "    G_OM=G_matrix(P,v_OM) #P 2*np.identity(np.shape(P)[1])\n",
    "    \n",
    "    F_OM=H_OM+G_OM\n",
    "    return(F_OM)\n",
    "\n",
    "def FMatrix_OM(F,C):\n",
    "    #return(np.matmul(np.linalg.inv(C),np.matmul(F,C)))\n",
    "    return(np.matmul(C.T,np.matmul(F,C)))\n",
    "\n",
    "def MP_Energy(v,C,H,N,P,F):\n",
    "    n_OM=int(np.shape(C)[1])\n",
    "    v_OM=Two_e_int_MO(v,C)\n",
    "    MP=0\n",
    "    F_OM=FMatrix_OM(F,C)\n",
    "    En_OM=np.einsum('ii->i',F_OM)\n",
    "    for a in range(int(N/2)):\n",
    "        for b in range(int(N/2)):\n",
    "            for r in range(int(N/2),n_OM):\n",
    "                for s in range(int(N/2),n_OM):\n",
    "                    MP+=(v_OM[a,r,b,s]*(2*v_OM[r,a,s,b]-v_OM[r,b,s,a]))/(En_OM[r]+En_OM[s]-En_OM[a]-En_OM[b])\n",
    "    return(MP)                 "
   ]
  },
  {
   "cell_type": "code",
   "execution_count": 76,
   "id": "2979c019",
   "metadata": {},
   "outputs": [
    {
     "name": "stdout",
     "output_type": "stream",
     "text": [
      "0.5775510204081632\n"
     ]
    }
   ],
   "source": [
    "psi4.set_memory('500 MB')\n",
    "#liste de distance et listes pour les énergies\n",
    "Dist_list=np.linspace(0.1,4,num=50)\n",
    "Energy_list=[]\n",
    "Emin=0\n",
    "for Dist in Dist_list:\n",
    "    psi4.core.clean()\n",
    "    E=Diatomic_Energy(Dist,'H','H','cc-pvdz')\n",
    "    Energy_list.append(E)\n",
    "    if E<Emin:\n",
    "        Emin=E\n",
    "        R=Dist\n",
    "print(R)"
   ]
  },
  {
   "cell_type": "code",
   "execution_count": 77,
   "id": "87bd85f4",
   "metadata": {},
   "outputs": [
    {
     "name": "stdout",
     "output_type": "stream",
     "text": [
      "[ 2.49492199  0.27861182 -0.53692031 -0.92255869 -1.12167324 -1.22091835\n",
      " -1.25805696 -1.25596854 -1.23409968 -1.20647278 -1.17952463 -1.15484708\n",
      " -1.13233221 -1.11160088 -1.09236555 -1.07444985 -1.05774865 -1.04219662\n",
      " -1.02775046 -1.01437902 -1.00205679 -0.9907589  -0.98045762 -0.97112075\n",
      " -0.96271191 -0.95519181 -0.94851998 -0.94265607 -0.93756074 -0.93319609\n",
      " -0.92952576 -0.92651486 -0.92412981 -0.92233821 -0.92110866 -0.92041074\n",
      " -0.92021482 -0.92049208 -0.92121437 -0.92235424 -0.92388486 -0.92578\n",
      " -0.92801407 -0.93056215 -0.93340003 -0.9365043  -0.93985243 -0.94342285\n",
      " -0.94719504 -0.95114961]\n"
     ]
    },
    {
     "data": {
      "image/png": "[encoded data removed]",
      "text/plain": [
       "<Figure size 640x480 with 1 Axes>"
      ]
     },
     "metadata": {},
     "output_type": "display_data"
    }
   ],
   "source": [
    "plt.plot(Dist_list,np.asarray(Energy_list))\n",
    "print(np.asarray(Energy_list))"
   ]
  },
  {
   "cell_type": "code",
   "execution_count": 23,
   "id": "a46a21b0",
   "metadata": {},
   "outputs": [
    {
     "name": "stdout",
     "output_type": "stream",
     "text": [
      "[ 2.64180934 -0.23087424 -0.86781584 -1.07575571 -1.14311688 -1.15499061\n",
      " -1.14324509 -1.12160222 -1.0965392  -1.07120604 -1.04711772 -1.02499623\n",
      " -1.00518087 -0.98780076 -0.9728478  -0.96022878 -0.94981038 -0.9414485\n",
      " -0.93500097 -0.93033043 -0.92730347 -0.92578938 -0.92565934 -0.92678603\n",
      " -0.92904355 -0.93230773 -0.93645712 -0.94137445 -0.94694864 -0.95307668]\n"
     ]
    },
    {
     "data": {
      "image/png": "[encoded data removed]",
      "text/plain": [
       "<Figure size 640x480 with 1 Axes>"
      ]
     },
     "metadata": {},
     "output_type": "display_data"
    }
   ],
   "source": [
    "plt.plot(Dist_list,np.asarray(Energy_list))\n",
    "print(np.asarray(Energy_list))"
   ]
  },
  {
   "cell_type": "code",
   "execution_count": 69,
   "id": "65014a6d",
   "metadata": {},
   "outputs": [
    {
     "name": "stdout",
     "output_type": "stream",
     "text": [
      "0.736734693877551\n"
     ]
    }
   ],
   "source": [
    "psi4.set_memory('500 MB')\n",
    "#liste de distance et listes pour les énergies\n",
    "Dist_list=np.linspace(0.1,4,num=50)\n",
    "Energy_list=[]\n",
    "Emin=0\n",
    "psi4.set_memory('500 MB')\n",
    "#liste de distance et listes pour les énergies\n",
    "Dist_list=np.linspace(0.1,4,num=50)\n",
    "Energy_list=[]\n",
    "Emin=0\n",
    "for Dist in Dist_list:\n",
    "    psi4.core.clean()\n",
    "    E=Diatomic_Energy(Dist,'H','H','cc-pvdz')\n",
    "    Energy_list.append(E)\n",
    "    if E<Emin:\n",
    "        Emin=E\n",
    "        R=Dist\n",
    "print(R)"
   ]
  },
  {
   "cell_type": "code",
   "execution_count": 67,
   "id": "3b2b877d",
   "metadata": {},
   "outputs": [
    {
     "name": "stdout",
     "output_type": "stream",
     "text": [
      "[-0.95307668 -0.95307668 -0.95307668 -0.95307668 -0.95307668 -0.95307668\n",
      " -0.95307668 -0.95307668 -0.95307668 -0.95307668 -0.95307668 -0.95307668\n",
      " -0.95307668 -0.95307668 -0.95307668 -0.95307668 -0.95307668 -0.95307668\n",
      " -0.95307668 -0.95307668 -0.95307668 -0.95307668 -0.95307668 -0.95307668\n",
      " -0.95307668 -0.95307668 -0.95307668 -0.95307668 -0.95307668 -0.95307668\n",
      " -0.95307668 -0.95307668 -0.95307668 -0.95307668 -0.95307668 -0.95307668\n",
      " -0.95307668 -0.95307668 -0.95307668 -0.95307668 -0.95307668 -0.95307668\n",
      " -0.95307668 -0.95307668 -0.95307668 -0.95307668 -0.95307668 -0.95307668\n",
      " -0.95307668 -0.95307668]\n"
     ]
    },
    {
     "data": {
      "image/png": "[encoded data removed]",
      "text/plain": [
       "<Figure size 640x480 with 1 Axes>"
      ]
     },
     "metadata": {},
     "output_type": "display_data"
    }
   ],
   "source": [
    "plt.plot(Dist_list,np.asarray(Energy_list))\n",
    "print(np.asarray(Energy_list))"
   ]
  },
  {
   "cell_type": "code",
   "execution_count": null,
   "id": "75984716",
   "metadata": {},
   "outputs": [],
   "source": []
  }
 ],
 "metadata": {
  "kernelspec": {
   "display_name": "Python 3 (ipykernel)",
   "language": "python",
   "name": "python3"
  },
  "language_info": {
   "codemirror_mode": {
    "name": "ipython",
    "version": 3
   },
   "file_extension": ".py",
   "mimetype": "text/x-python",
   "name": "python",
   "nbconvert_exporter": "python",
   "pygments_lexer": "ipython3",
   "version": "3.8.16"
  }
 },
 "nbformat": 4,
 "nbformat_minor": 5
}
