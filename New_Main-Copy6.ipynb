{
 "cells": [
  {
   "cell_type": "code",
   "execution_count": 1,
   "id": "7fa0e570",
   "metadata": {},
   "outputs": [],
   "source": [
    "import numpy as np\n",
    "import psi4\n",
    "from matplotlib import pyplot as plt\n",
    "from matplotlib import cm\n",
    "from matplotlib.ticker import LinearLocator\n",
    "import random\n",
    "from IPython.display import HTML"
   ]
  },
  {
   "cell_type": "code",
   "execution_count": 2,
   "id": "9818f482",
   "metadata": {},
   "outputs": [
    {
     "data": {
      "text/html": [
       "\n",
       "        <script>\n",
       "            function code_toggle_2690966518650433452() {\n",
       "                $('div.cell.code_cell.rendered.selected').find('div.input').toggle();\n",
       "            }\n",
       "\n",
       "            \n",
       "        </script>\n",
       "\n",
       "        <a href=\"javascript:code_toggle_2690966518650433452()\">Show/Hide</a>\n",
       "    "
      ],
      "text/plain": [
       "<IPython.core.display.HTML object>"
      ]
     },
     "execution_count": 2,
     "metadata": {},
     "output_type": "execute_result"
    }
   ],
   "source": [
    "\n",
    "def hide_toggle(for_next=False):\n",
    "    this_cell = \"\"\"$('div.cell.code_cell.rendered.selected')\"\"\"\n",
    "    next_cell = this_cell + '.next()'\n",
    "\n",
    "    toggle_text = 'Show/Hide'  # text shown on toggle link\n",
    "    target_cell = this_cell  # target cell to control with toggle\n",
    "    js_hide_current = ''  # bit of JS to permanently hide code in current cell (only when toggling next cell)\n",
    "\n",
    "    if for_next:\n",
    "        target_cell = next_cell\n",
    "        toggle_text += ' next cell'\n",
    "        js_hide_current = this_cell + '.find(\"div.input\").hide();'\n",
    "\n",
    "    js_f_name = 'code_toggle_{}'.format(str(random.randint(1,2**64)))\n",
    "\n",
    "    html = \"\"\"\n",
    "        <script>\n",
    "            function {f_name}() {{\n",
    "                {cell_selector}.find('div.input').toggle();\n",
    "            }}\n",
    "\n",
    "            {js_hide_current}\n",
    "        </script>\n",
    "\n",
    "        <a href=\"javascript:{f_name}()\">{toggle_text}</a>\n",
    "    \"\"\".format(\n",
    "        f_name=js_f_name,\n",
    "        cell_selector=target_cell,\n",
    "        js_hide_current=js_hide_current, \n",
    "        toggle_text=toggle_text\n",
    "    )\n",
    "\n",
    "    return HTML(html)\n",
    "\n",
    "hide_toggle()"
   ]
  },
  {
   "cell_type": "code",
   "execution_count": 3,
   "id": "6d97e49b",
   "metadata": {},
   "outputs": [
    {
     "data": {
      "text/html": [
       "\n",
       "        <script>\n",
       "            function code_toggle_15182036585277671904() {\n",
       "                $('div.cell.code_cell.rendered.selected').find('div.input').toggle();\n",
       "            }\n",
       "\n",
       "            \n",
       "        </script>\n",
       "\n",
       "        <a href=\"javascript:code_toggle_15182036585277671904()\">Show/Hide</a>\n",
       "    "
      ],
      "text/plain": [
       "<IPython.core.display.HTML object>"
      ]
     },
     "execution_count": 3,
     "metadata": {},
     "output_type": "execute_result"
    }
   ],
   "source": [
    "def X_matrix(S):\n",
    "    evalues,U= np.linalg.eigh(S) #S=U*evalues*Udagger\n",
    "    s=np.diag(1/np.sqrt(evalues))#matrice diagonale avec l'inverse des racines des valeurs propres\n",
    "\n",
    "    X=np.matmul(np.matmul(U,s),np.conjugate(U.T)) #X=Us^(-1/2)U*\n",
    "    #X=np.matmul(U,s) #X=Us^(-1/2)\n",
    "    \n",
    "    if verif_X_matrix(X,S):\n",
    "        return(X)\n",
    "    else: \n",
    "        print('problem with X')\n",
    "        return\n",
    "\n",
    "def verif_X_matrix(X,S):\n",
    "    Xh=np.conjugate(X.T)\n",
    "    n=len(X)\n",
    "    verif=np.matmul(Xh,np.matmul(S,X))\n",
    "    if (abs(verif-np.identity(n))<(10**-10)).all():\n",
    "        return True\n",
    "    else:\n",
    "        return(False)\n",
    "hide_toggle()"
   ]
  },
  {
   "cell_type": "code",
   "execution_count": 4,
   "id": "a2521b7c",
   "metadata": {},
   "outputs": [
    {
     "data": {
      "text/html": [
       "\n",
       "        <script>\n",
       "            function code_toggle_15458297735795904886() {\n",
       "                $('div.cell.code_cell.rendered.selected').find('div.input').toggle();\n",
       "            }\n",
       "\n",
       "            \n",
       "        </script>\n",
       "\n",
       "        <a href=\"javascript:code_toggle_15458297735795904886()\">Show/Hide</a>\n",
       "    "
      ],
      "text/plain": [
       "<IPython.core.display.HTML object>"
      ]
     },
     "execution_count": 4,
     "metadata": {},
     "output_type": "execute_result"
    }
   ],
   "source": [
    "#Calcul de F a l'aide de la matrice densité F= H + G\n",
    "def G_matrix(P,v):\n",
    "    n=len(P)\n",
    "    G=np.zeros((n,n))\n",
    "    for i in range(n):\n",
    "        for j in range(n):\n",
    "            for k in range(n):\n",
    "                for l in range(n):\n",
    "                    G[i,j]+=P[k,l]*(v[i][j][k][l]-0.5*v[i][l][k][j])\n",
    "    return(G)\n",
    "#  \n",
    "#fonction calcul  F'=X*FX\n",
    "\n",
    "def new_fock_matrix(F,X):\n",
    "    FX=np.matmul(F,X)\n",
    "    return(np.matmul(np.conjugate(X.T),FX))\n",
    "##\n",
    "hide_toggle()"
   ]
  },
  {
   "cell_type": "code",
   "execution_count": 5,
   "id": "ecb92250",
   "metadata": {},
   "outputs": [
    {
     "data": {
      "text/html": [
       "\n",
       "        <script>\n",
       "            function code_toggle_16772405271632847199() {\n",
       "                $('div.cell.code_cell.rendered.selected').find('div.input').toggle();\n",
       "            }\n",
       "\n",
       "            \n",
       "        </script>\n",
       "\n",
       "        <a href=\"javascript:code_toggle_16772405271632847199()\">Show/Hide</a>\n",
       "    "
      ],
      "text/plain": [
       "<IPython.core.display.HTML object>"
      ]
     },
     "execution_count": 5,
     "metadata": {},
     "output_type": "execute_result"
    }
   ],
   "source": [
    "#calcul matrice C=XC' des coefs\n",
    "\n",
    "def coef_matrix(f,X):\n",
    "    energy,c = np.linalg.eigh(f)\n",
    "    C = np.matmul(X,c)\n",
    "    return(C)\n",
    "hide_toggle()"
   ]
  },
  {
   "cell_type": "code",
   "execution_count": 6,
   "id": "d813e50d",
   "metadata": {},
   "outputs": [
    {
     "data": {
      "text/html": [
       "\n",
       "        <script>\n",
       "            function code_toggle_13340877836023206745() {\n",
       "                $('div.cell.code_cell.rendered.selected').find('div.input').toggle();\n",
       "            }\n",
       "\n",
       "            \n",
       "        </script>\n",
       "\n",
       "        <a href=\"javascript:code_toggle_13340877836023206745()\">Show/Hide</a>\n",
       "    "
      ],
      "text/plain": [
       "<IPython.core.display.HTML object>"
      ]
     },
     "execution_count": 6,
     "metadata": {},
     "output_type": "execute_result"
    }
   ],
   "source": [
    "def new_density_matrix(C,Bas_n,N):\n",
    "    P=np.zeros_like(C)\n",
    "    for i in range(Bas_n):\n",
    "        for j in range(Bas_n):\n",
    "            for a in range(int(N/2)):\n",
    "                P[i,j]+=2*C[i,a]*C[j,a]\n",
    "    return(P)\n",
    "hide_toggle()"
   ]
  },
  {
   "cell_type": "code",
   "execution_count": 7,
   "id": "15c91013",
   "metadata": {},
   "outputs": [
    {
     "data": {
      "text/html": [
       "\n",
       "        <script>\n",
       "            function code_toggle_1831987321528606100() {\n",
       "                $('div.cell.code_cell.rendered.selected').find('div.input').toggle();\n",
       "            }\n",
       "\n",
       "            \n",
       "        </script>\n",
       "\n",
       "        <a href=\"javascript:code_toggle_1831987321528606100()\">Show/Hide</a>\n",
       "    "
      ],
      "text/plain": [
       "<IPython.core.display.HTML object>"
      ]
     },
     "execution_count": 7,
     "metadata": {},
     "output_type": "execute_result"
    }
   ],
   "source": [
    "#convergence de l'algo avec le commutateur\n",
    "\n",
    "def convergence(F,P,S,lim):\n",
    "    FPS=np.matmul(F,np.matmul(P,S))\n",
    "    SPF=np.matmul(S,np.matmul(P,F))\n",
    "    if (abs(FPS-SPF)<=lim).all():\n",
    "        return True\n",
    "    else:\n",
    "        return False\n",
    "    \n",
    "hide_toggle()\n",
    "    "
   ]
  },
  {
   "cell_type": "code",
   "execution_count": 8,
   "id": "caf44bed",
   "metadata": {},
   "outputs": [
    {
     "data": {
      "text/html": [
       "\n",
       "        <script>\n",
       "            function code_toggle_11615007899270314933() {\n",
       "                $('div.cell.code_cell.rendered.selected').find('div.input').toggle();\n",
       "            }\n",
       "\n",
       "            \n",
       "        </script>\n",
       "\n",
       "        <a href=\"javascript:code_toggle_11615007899270314933()\">Show/Hide</a>\n",
       "    "
      ],
      "text/plain": [
       "<IPython.core.display.HTML object>"
      ]
     },
     "execution_count": 8,
     "metadata": {},
     "output_type": "execute_result"
    }
   ],
   "source": [
    "def SCF_energy(S,v,H,Bas_n,N,lim,max_iter,mol):\n",
    "    #initialisation\n",
    "    X=X_matrix(S)\n",
    "    P=np.zeros((Bas_n,Bas_n))\n",
    "\n",
    "    New_Energy=0\n",
    "    Old_Energy=0\n",
    "    \n",
    "    Enn=mol.nuclear_repulsion_energy()\n",
    "    \n",
    "    #Boucle convergence\n",
    "    F=H\n",
    "    for n_iter in range(max_iter):\n",
    "\n",
    "\n",
    "        \n",
    "        #Calcul de la nouvelle matrice densité\n",
    "        f=new_fock_matrix(F,X)\n",
    "        C=coef_matrix(f,X)\n",
    "        P=new_density_matrix(C,Bas_n,N)\n",
    "        \n",
    "        #Matrice de Fock\n",
    "        G=G_matrix(P,v)\n",
    "        F=H+G\n",
    "        \n",
    "        #Calcul de l'énergie\n",
    "        Old_Energy=New_Energy \n",
    "        New_Energy=0.5*np.trace(np.matmul(P,H+F))\n",
    "        \n",
    "        #Condition de convergence\n",
    "        \n",
    "        if n_iter!=0 and (abs(New_Energy-Old_Energy)<lim):\n",
    "            #print('Converged after', n_iter,'iterations')\n",
    "            #print(np.matmul(np.linalg.inv(C),np.matmul(F,C)))\n",
    "            return(New_Energy+Enn,C,P,F)\n",
    "    print('Did not converge')\n",
    "    return(New_Energy+Enn,C,P,F)\n",
    "\n",
    "hide_toggle()"
   ]
  },
  {
   "cell_type": "code",
   "execution_count": 31,
   "id": "6c5dd530",
   "metadata": {},
   "outputs": [
    {
     "data": {
      "text/html": [
       "\n",
       "        <script>\n",
       "            function code_toggle_17572044684931921762() {\n",
       "                $('div.cell.code_cell.rendered.selected').find('div.input').toggle();\n",
       "            }\n",
       "\n",
       "            \n",
       "        </script>\n",
       "\n",
       "        <a href=\"javascript:code_toggle_17572044684931921762()\">Show/Hide</a>\n",
       "    "
      ],
      "text/plain": [
       "<IPython.core.display.HTML object>"
      ]
     },
     "execution_count": 31,
     "metadata": {},
     "output_type": "execute_result"
    }
   ],
   "source": [
    "def Diatomic_Energy(Dist,at1,at2,Basis_set):\n",
    "# géométrie de la molécule\n",
    "    mol = psi4.geometry(\"\"\"\n",
    "    \"\"\"+at1+\"\"\"  0.0 0.0 0.0 \n",
    "    \"\"\"+at2+\"\"\"  0.0 \"\"\"+str(Dist)+\"\"\" 0.0\n",
    "\n",
    "    \"\"\")\n",
    "    \n",
    "\n",
    "    geo_unit = psi4.core.GeometryUnits(0) # Angstrom:0 , bohr:1\n",
    "    null=psi4.core.Molecule.set_units(mol,geo_unit)\n",
    "    null=psi4.core.Molecule.set_molecular_charge(mol,0)\n",
    "    null=psi4.core.Molecule.set_multiplicity(mol,1)\n",
    "    \n",
    "    #Fonction d'onde de la molécule\n",
    "    wf = psi4.core.Wavefunction.build(mol,basis=Basis_set)\n",
    "    mints = psi4.core.MintsHelper(wf.basisset())\n",
    "\n",
    "    #différentes intégrales calculées par psi4\n",
    "    S = np.asarray(mints.ao_overlap())\n",
    "    v = np.asarray(mints.ao_eri())\n",
    "    T = np.asarray(mints.ao_kinetic())\n",
    "    V = np.asarray(mints.ao_potential())\n",
    "    H=T+V\n",
    "    \n",
    "    #Différents paramètres pour l'algo\n",
    "    Bas_n = S.shape[0] #shape(H)=(Bas_n,Bas_n)\n",
    "    N= int(2*wf.nalpha())\n",
    "    lim=10**(-10)\n",
    "    max_iter=100\n",
    "    #calcul des énergies en Ha\n",
    "\n",
    "    HF_energy,C,P,F=SCF_energy(S,v,H,Bas_n,N,lim,max_iter,mol)\n",
    "    MP2_energy=HF_energy - MP_Energy(v,C,H,N,P,F)\n",
    "    print('dif=',abs(MP2_energy-psi4.energy('mp2/'+Basis_set+'') ))\n",
    "    return(MP2_energy)\n",
    "    #return(psi4.energy('mp2/'+Basis_set+''))\n",
    "\n",
    "hide_toggle()"
   ]
  },
  {
   "cell_type": "code",
   "execution_count": 10,
   "id": "ec50bf2f",
   "metadata": {},
   "outputs": [
    {
     "data": {
      "text/html": [
       "\n",
       "        <script>\n",
       "            function code_toggle_12909292363413874961() {\n",
       "                $('div.cell.code_cell.rendered.selected').find('div.input').toggle();\n",
       "            }\n",
       "\n",
       "            \n",
       "        </script>\n",
       "\n",
       "        <a href=\"javascript:code_toggle_12909292363413874961()\">Show/Hide</a>\n",
       "    "
      ],
      "text/plain": [
       "<IPython.core.display.HTML object>"
      ]
     },
     "execution_count": 10,
     "metadata": {},
     "output_type": "execute_result"
    }
   ],
   "source": [
    "def water(Theta,Dist):\n",
    "    mol = psi4.geometry(\"\"\"\n",
    "    O  0.0  0.0  0.0\n",
    "    H  \"\"\"+str(Dist)+\"\"\"  0.0  0.0\n",
    "    H  \"\"\"+str(Dist*np.cos(Theta))+\"\"\"  \"\"\"+str(Dist*np.sin(Theta))+\"\"\"  0.0\n",
    "\n",
    "    \"\"\")\n",
    "\n",
    "    \n",
    "    geo_unit = psi4.core.GeometryUnits(0) # Angstrom:0 , bohr:1\n",
    "    null=psi4.core.Molecule.set_units(mol,geo_unit)\n",
    "    null=psi4.core.Molecule.set_molecular_charge(mol,0)\n",
    "    null=psi4.core.Molecule.set_multiplicity(mol,1)\n",
    "  \n",
    "\n",
    "\n",
    "    #Fonction d'onde de la molécule\n",
    "    wf = psi4.core.Wavefunction.build(mol,basis='sto-3g')\n",
    "    mints = psi4.core.MintsHelper(wf.basisset())\n",
    "\n",
    "    #différentes intégrales calculées par psi4\n",
    "    S = np.asarray(mints.ao_overlap())\n",
    "    v = np.asarray(mints.ao_eri())\n",
    "    T = np.asarray(mints.ao_kinetic())\n",
    "    V = np.asarray(mints.ao_potential())\n",
    "    H=T+V\n",
    "    \n",
    "    #Différents paramètres pour l'algo\n",
    "    Bas_n = S.shape[0] #shape(H)=(Bas_n,Bas_n)\n",
    "    N= int(2*wf.nalpha())\n",
    "    lim=10**(-12)\n",
    "    max_iter=100\n",
    "    #calcul des énergies en Ha\n",
    "\n",
    "    HF_energy,C,P,F=SCF_energy(S,v,H,Bas_n,N,lim,max_iter,mol)\n",
    "    MP2_energy=HF_energy - MP_Energy(v,C,H,N,P,F)\n",
    "    return(MP2_energy)\n",
    "    #return(SCF_energy(S,v,H,Bas_n,N,lim,max_iter,mol))\n",
    "hide_toggle()"
   ]
  },
  {
   "cell_type": "code",
   "execution_count": 32,
   "id": "1eb1ba76",
   "metadata": {},
   "outputs": [],
   "source": [
    "def Two_e_int_MO(v,C):\n",
    "    #INLS=np.einsum('mi,mnls->imls',C,v)\n",
    "    #IJLS=np.einsum('nj,inls->ijls',C,INLS)\n",
    "    #IJKS=np.einsum('lk,ijls->ijks',C,IJLS)\n",
    "    #IJKL=np.einsum('sl,ijks->ijkl',C,IJKS)\n",
    "    #return(IJKL)\n",
    "    return(np.einsum(\"uvkl, up, vq, kr, ls -> pqrs\", v, C,C, C, C))\n",
    "\n",
    "def FMatrix_OM2(H,v_OM,C,P):\n",
    "    C_conj=np.conjugate(C)\n",
    "    H_OM=np.einsum('im,jn,mn->ij',C_conj,C,H)\n",
    "    G_OM=G_matrix(P,v_OM) #P 2*np.identity(np.shape(P)[1])\n",
    "    \n",
    "    F_OM=H_OM+G_OM\n",
    "    return(F_OM)\n",
    "\n",
    "def FMatrix_OM(F,C):\n",
    "    return(np.matmul(np.linalg.inv(C),np.matmul(F,C)))\n",
    "\n",
    "\n",
    "def MP_Energy(v,C,H,N,P,F):\n",
    "    n_OM=int(np.shape(C)[1])\n",
    "    v_OM=Two_e_int_MO(v,C)\n",
    "    MP=0\n",
    "    F_OM=FMatrix_OM(F,C)\n",
    "    #F_OM=FMatrix_OM2(H,v_OM,C,P)\n",
    "    En_OM=np.einsum('ii->i',F_OM)\n",
    "    #En_OM=np.linalg.eigh(F_OM)[0]\n",
    "    for a in range(int(N/2)):\n",
    "        for b in range(int(N/2)):\n",
    "            for r in range(int(N/2),n_OM):\n",
    "                for s in range(int(N/2),n_OM):\n",
    "                    MP+=(v_OM[a,b,r,s]*(2*v_OM[r,s,a,b]-v_OM[r,s,b,a]))/(En_OM[r]+En_OM[s]-En_OM[a]-En_OM[b])\n",
    "    return(MP)                 "
   ]
  },
  {
   "cell_type": "code",
   "execution_count": 33,
   "id": "2979c019",
   "metadata": {},
   "outputs": [
    {
     "name": "stdout",
     "output_type": "stream",
     "text": [
      "dif= 0.6967580847257338\n",
      "0.1\n",
      "dif= 0.6650247582188077\n",
      "0.2612244897959184\n",
      "dif= 0.6267491680417804\n",
      "0.4224489795918368\n",
      "dif= 0.5850220442045351\n",
      "0.5836734693877551\n",
      "dif= 0.5488535799579848\n",
      "0.7448979591836735\n",
      "dif= 0.5253013800697204\n",
      "0.9061224489795919\n",
      "dif= 0.5089956125839112\n",
      "1.0673469387755103\n",
      "dif= 0.4966083444861964\n",
      "1.2285714285714289\n",
      "dif= 0.48697040646110734\n",
      "1.3897959183673472\n",
      "dif= 0.479363134861585\n",
      "1.5510204081632655\n",
      "dif= 0.4732293850579046\n",
      "1.712244897959184\n",
      "dif= 0.4682294359727134\n",
      "1.8734693877551023\n",
      "dif= 0.4643273671379793\n",
      "2.0346938775510206\n",
      "dif= 0.461489139301939\n",
      "2.195918367346939\n",
      "dif= 0.4595041861508018\n",
      "2.3571428571428577\n",
      "dif= 0.45809409149605296\n",
      "2.518367346938776\n",
      "dif= 0.4570008952504735\n",
      "2.6795918367346943\n",
      "dif= 0.45601186087006784\n",
      "2.8408163265306126\n",
      "dif= 0.4549616764967649\n",
      "3.002040816326531\n",
      "dif= 0.45372625378878695\n",
      "3.1632653061224496\n",
      "dif= 0.4522117883522757\n",
      "3.324489795918368\n",
      "dif= 0.45034507211808916\n",
      "3.485714285714286\n",
      "dif= 0.4480692964207562\n",
      "3.6469387755102045\n",
      "dif= 0.44534474342625874\n",
      "3.808163265306123\n",
      "dif= 0.44215182238087225\n",
      "3.969387755102041\n",
      "dif= 0.43848954174125276\n",
      "4.130612244897959\n",
      "dif= 0.4343786096334282\n",
      "4.291836734693877\n",
      "dif= 0.4298552498188153\n",
      "4.4530612244897965\n",
      "dif= 0.4249673510168561\n",
      "4.614285714285715\n",
      "dif= 0.4197695347304251\n",
      "4.775510204081633\n",
      "dif= 0.41431863068540276\n",
      "4.936734693877551\n",
      "dif= 0.40866999544302285\n",
      "5.09795918367347\n",
      "dif= 0.40287483721272954\n",
      "5.259183673469388\n",
      "dif= 0.3969785209719505\n",
      "5.420408163265306\n",
      "dif= 0.39101972080894654\n",
      "5.581632653061225\n",
      "dif= 0.38503024062568936\n",
      "5.742857142857143\n",
      "dif= 0.3790353180896284\n",
      "5.904081632653061\n",
      "dif= 0.3730542429989301\n",
      "6.0653061224489795\n",
      "dif= 0.36710114858743004\n",
      "6.226530612244899\n",
      "dif= 0.3611858655108484\n",
      "6.387755102040817\n",
      "dif= 0.35531475891240705\n",
      "6.548979591836735\n",
      "dif= 0.3494914963884317\n",
      "6.710204081632654\n",
      "dif= 0.3437177174824688\n",
      "6.871428571428572\n",
      "dif= 0.3379935928772628\n",
      "7.03265306122449\n",
      "dif= 0.33231827426265115\n",
      "7.1938775510204085\n",
      "dif= 0.32669024373388167\n",
      "7.355102040816327\n",
      "dif= 0.3211075759534312\n",
      "7.516326530612245\n",
      "dif= 0.31556813937608985\n",
      "7.677551020408163\n",
      "dif= 0.12839698834680702\n",
      "7.838775510204082\n",
      "dif= 0.12856994228239849\n",
      "8.0\n"
     ]
    }
   ],
   "source": [
    "psi4.set_memory('500 MB')\n",
    "#liste de distance et listes pour les énergies\n",
    "Dist_list=np.linspace(0.1,8,num=50)\n",
    "Energy_list=[]\n",
    "\n",
    "for Dist in Dist_list:\n",
    "    psi4.core.clean()\n",
    "    Energy_list.append(Diatomic_Energy(Dist,'H','H','cc-pvdz'))\n",
    "    print(Dist)"
   ]
  },
  {
   "cell_type": "code",
   "execution_count": 35,
   "id": "87bd85f4",
   "metadata": {},
   "outputs": [
    {
     "name": "stdout",
     "output_type": "stream",
     "text": [
      "[ 1.94505126 -1.09026449 -1.60430634 -1.71056353 -1.70399827 -1.66865099\n",
      " -1.62589457 -1.58314206 -1.54373693 -1.50882888 -1.47862461 -1.45304615\n",
      " -1.43203207 -1.41536489 -1.40259286 -1.39319093 -1.38666342 -1.38256806\n",
      " -1.38051527 -1.38016028 -1.38119156 -1.38332162 -1.38628496 -1.38984259\n",
      " -1.39378991 -1.39795951 -1.4022273  -1.40650739 -1.41074766 -1.41492299\n",
      " -1.41902822 -1.42307178 -1.42707028 -1.43104446 -1.43501612 -1.43900612\n",
      " -1.44303312 -1.44711285 -1.45125791 -1.45547777 -1.45977904 -1.46416579\n",
      " -1.46863995 -1.47320176 -1.47785009 -1.48258283 -1.4873972  -1.49228996\n",
      " -1.31558489 -1.32625642]\n"
     ]
    },
    {
     "data": {
      "image/png": "[encoded data removed]",
      "text/plain": [
       "<Figure size 640x480 with 1 Axes>"
      ]
     },
     "metadata": {},
     "output_type": "display_data"
    }
   ],
   "source": [
    "plt.plot(Dist_list,np.asarray(Energy_list))\n",
    "print(np.asarray(Energy_list))"
   ]
  },
  {
   "cell_type": "code",
   "execution_count": null,
   "id": "a46a21b0",
   "metadata": {},
   "outputs": [],
   "source": []
  }
 ],
 "metadata": {
  "kernelspec": {
   "display_name": "Python 3 (ipykernel)",
   "language": "python",
   "name": "python3"
  },
  "language_info": {
   "codemirror_mode": {
    "name": "ipython",
    "version": 3
   },
   "file_extension": ".py",
   "mimetype": "text/x-python",
   "name": "python",
   "nbconvert_exporter": "python",
   "pygments_lexer": "ipython3",
   "version": "3.8.16"
  }
 },
 "nbformat": 4,
 "nbformat_minor": 5
}
