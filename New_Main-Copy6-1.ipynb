{
 "cells": [
  {
   "cell_type": "code",
   "execution_count": 1,
   "id": "7fa0e570",
   "metadata": {},
   "outputs": [],
   "source": [
    "import numpy as np\n",
    "import psi4\n",
    "from matplotlib import pyplot as plt\n",
    "from matplotlib import cm\n",
    "from matplotlib.ticker import LinearLocator\n",
    "import random\n",
    "from IPython.display import HTML"
   ]
  },
  {
   "cell_type": "code",
   "execution_count": 2,
   "id": "9818f482",
   "metadata": {},
   "outputs": [
    {
     "data": {
      "text/html": [
       "\n",
       "        <script>\n",
       "            function code_toggle_14370275207182102112() {\n",
       "                $('div.cell.code_cell.rendered.selected').find('div.input').toggle();\n",
       "            }\n",
       "\n",
       "            \n",
       "        </script>\n",
       "\n",
       "        <a href=\"javascript:code_toggle_14370275207182102112()\">Show/Hide</a>\n",
       "    "
      ],
      "text/plain": [
       "<IPython.core.display.HTML object>"
      ]
     },
     "execution_count": 2,
     "metadata": {},
     "output_type": "execute_result"
    }
   ],
   "source": [
    "\n",
    "def hide_toggle(for_next=False):\n",
    "    this_cell = \"\"\"$('div.cell.code_cell.rendered.selected')\"\"\"\n",
    "    next_cell = this_cell + '.next()'\n",
    "\n",
    "    toggle_text = 'Show/Hide'  # text shown on toggle link\n",
    "    target_cell = this_cell  # target cell to control with toggle\n",
    "    js_hide_current = ''  # bit of JS to permanently hide code in current cell (only when toggling next cell)\n",
    "\n",
    "    if for_next:\n",
    "        target_cell = next_cell\n",
    "        toggle_text += ' next cell'\n",
    "        js_hide_current = this_cell + '.find(\"div.input\").hide();'\n",
    "\n",
    "    js_f_name = 'code_toggle_{}'.format(str(random.randint(1,2**64)))\n",
    "\n",
    "    html = \"\"\"\n",
    "        <script>\n",
    "            function {f_name}() {{\n",
    "                {cell_selector}.find('div.input').toggle();\n",
    "            }}\n",
    "\n",
    "            {js_hide_current}\n",
    "        </script>\n",
    "\n",
    "        <a href=\"javascript:{f_name}()\">{toggle_text}</a>\n",
    "    \"\"\".format(\n",
    "        f_name=js_f_name,\n",
    "        cell_selector=target_cell,\n",
    "        js_hide_current=js_hide_current, \n",
    "        toggle_text=toggle_text\n",
    "    )\n",
    "\n",
    "    return HTML(html)\n",
    "\n",
    "hide_toggle()"
   ]
  },
  {
   "cell_type": "code",
   "execution_count": 3,
   "id": "6d97e49b",
   "metadata": {},
   "outputs": [
    {
     "data": {
      "text/html": [
       "\n",
       "        <script>\n",
       "            function code_toggle_7243791587672614183() {\n",
       "                $('div.cell.code_cell.rendered.selected').find('div.input').toggle();\n",
       "            }\n",
       "\n",
       "            \n",
       "        </script>\n",
       "\n",
       "        <a href=\"javascript:code_toggle_7243791587672614183()\">Show/Hide</a>\n",
       "    "
      ],
      "text/plain": [
       "<IPython.core.display.HTML object>"
      ]
     },
     "execution_count": 3,
     "metadata": {},
     "output_type": "execute_result"
    }
   ],
   "source": [
    "def X_matrix(S):\n",
    "    evalues,U= np.linalg.eigh(S) #S=U*evalues*Udagger\n",
    "    s=np.diag(1/np.sqrt(evalues))#matrice diagonale avec l'inverse des racines des valeurs propres\n",
    "\n",
    "    X=np.matmul(np.matmul(U,s),np.conjugate(U.T)) #X=Us^(-1/2)U*\n",
    "    #X=np.matmul(U,s) #X=Us^(-1/2)\n",
    "    \n",
    "    if verif_X_matrix(X,S):\n",
    "        return(X)\n",
    "    else: \n",
    "        print('problem with X')\n",
    "        return\n",
    "\n",
    "def verif_X_matrix(X,S):\n",
    "    Xh=np.conjugate(X.T)\n",
    "    n=len(X)\n",
    "    verif=np.matmul(Xh,np.matmul(S,X))\n",
    "    if (abs(verif-np.identity(n))<(10**-10)).all():\n",
    "        return True\n",
    "    else:\n",
    "        return(False)\n",
    "hide_toggle()"
   ]
  },
  {
   "cell_type": "code",
   "execution_count": 4,
   "id": "a2521b7c",
   "metadata": {},
   "outputs": [
    {
     "data": {
      "text/html": [
       "\n",
       "        <script>\n",
       "            function code_toggle_11813752647700514320() {\n",
       "                $('div.cell.code_cell.rendered.selected').find('div.input').toggle();\n",
       "            }\n",
       "\n",
       "            \n",
       "        </script>\n",
       "\n",
       "        <a href=\"javascript:code_toggle_11813752647700514320()\">Show/Hide</a>\n",
       "    "
      ],
      "text/plain": [
       "<IPython.core.display.HTML object>"
      ]
     },
     "execution_count": 4,
     "metadata": {},
     "output_type": "execute_result"
    }
   ],
   "source": [
    "#Calcul de F a l'aide de la matrice densité F= H + G\n",
    "def G_matrix(P,v):\n",
    "    n=len(P)\n",
    "    G=np.zeros((n,n))\n",
    "    for i in range(n):\n",
    "        for j in range(n):\n",
    "            for k in range(n):\n",
    "                for l in range(n):\n",
    "                    G[i,j]+=P[k,l]*(v[i][j][k][l]-0.5*v[i][l][k][j])\n",
    "    return(G)\n",
    "#  \n",
    "#fonction calcul  F'=X*FX\n",
    "\n",
    "def new_fock_matrix(F,X):\n",
    "    FX=np.matmul(F,X)\n",
    "    return(np.matmul(np.conjugate(X.T),FX))\n",
    "##\n",
    "hide_toggle()"
   ]
  },
  {
   "cell_type": "code",
   "execution_count": 5,
   "id": "ecb92250",
   "metadata": {},
   "outputs": [
    {
     "data": {
      "text/html": [
       "\n",
       "        <script>\n",
       "            function code_toggle_1172134788141694243() {\n",
       "                $('div.cell.code_cell.rendered.selected').find('div.input').toggle();\n",
       "            }\n",
       "\n",
       "            \n",
       "        </script>\n",
       "\n",
       "        <a href=\"javascript:code_toggle_1172134788141694243()\">Show/Hide</a>\n",
       "    "
      ],
      "text/plain": [
       "<IPython.core.display.HTML object>"
      ]
     },
     "execution_count": 5,
     "metadata": {},
     "output_type": "execute_result"
    }
   ],
   "source": [
    "#calcul matrice C=XC' des coefs\n",
    "\n",
    "def coef_matrix(f,X):\n",
    "    energy,c = np.linalg.eigh(f)\n",
    "    C = np.matmul(X,c)\n",
    "    return(C)\n",
    "hide_toggle()"
   ]
  },
  {
   "cell_type": "code",
   "execution_count": 6,
   "id": "d813e50d",
   "metadata": {},
   "outputs": [
    {
     "data": {
      "text/html": [
       "\n",
       "        <script>\n",
       "            function code_toggle_18340516909680062877() {\n",
       "                $('div.cell.code_cell.rendered.selected').find('div.input').toggle();\n",
       "            }\n",
       "\n",
       "            \n",
       "        </script>\n",
       "\n",
       "        <a href=\"javascript:code_toggle_18340516909680062877()\">Show/Hide</a>\n",
       "    "
      ],
      "text/plain": [
       "<IPython.core.display.HTML object>"
      ]
     },
     "execution_count": 6,
     "metadata": {},
     "output_type": "execute_result"
    }
   ],
   "source": [
    "def new_density_matrix(C,Bas_n,N):\n",
    "    P=np.zeros_like(C)\n",
    "    for i in range(Bas_n):\n",
    "        for j in range(Bas_n):\n",
    "            for a in range(int(N/2)):\n",
    "                P[i,j]+=2*C[i,a]*C[j,a]\n",
    "    return(P)\n",
    "hide_toggle()"
   ]
  },
  {
   "cell_type": "code",
   "execution_count": 7,
   "id": "15c91013",
   "metadata": {},
   "outputs": [
    {
     "data": {
      "text/html": [
       "\n",
       "        <script>\n",
       "            function code_toggle_14110621887045602420() {\n",
       "                $('div.cell.code_cell.rendered.selected').find('div.input').toggle();\n",
       "            }\n",
       "\n",
       "            \n",
       "        </script>\n",
       "\n",
       "        <a href=\"javascript:code_toggle_14110621887045602420()\">Show/Hide</a>\n",
       "    "
      ],
      "text/plain": [
       "<IPython.core.display.HTML object>"
      ]
     },
     "execution_count": 7,
     "metadata": {},
     "output_type": "execute_result"
    }
   ],
   "source": [
    "#convergence de l'algo avec le commutateur\n",
    "\n",
    "def convergence(F,P,S,lim):\n",
    "    FPS=np.matmul(F,np.matmul(P,S))\n",
    "    SPF=np.matmul(S,np.matmul(P,F))\n",
    "    if (abs(FPS-SPF)<=lim).all():\n",
    "        return True\n",
    "    else:\n",
    "        return False\n",
    "    \n",
    "hide_toggle()\n",
    "    "
   ]
  },
  {
   "cell_type": "code",
   "execution_count": 8,
   "id": "caf44bed",
   "metadata": {},
   "outputs": [
    {
     "data": {
      "text/html": [
       "\n",
       "        <script>\n",
       "            function code_toggle_15613198894268862004() {\n",
       "                $('div.cell.code_cell.rendered.selected').find('div.input').toggle();\n",
       "            }\n",
       "\n",
       "            \n",
       "        </script>\n",
       "\n",
       "        <a href=\"javascript:code_toggle_15613198894268862004()\">Show/Hide</a>\n",
       "    "
      ],
      "text/plain": [
       "<IPython.core.display.HTML object>"
      ]
     },
     "execution_count": 8,
     "metadata": {},
     "output_type": "execute_result"
    }
   ],
   "source": [
    "def SCF_energy(S,v,H,Bas_n,N,lim,max_iter,mol):\n",
    "    #initialisation\n",
    "    X=X_matrix(S)\n",
    "    P=np.zeros((Bas_n,Bas_n))\n",
    "\n",
    "    New_Energy=0\n",
    "    Old_Energy=0\n",
    "    \n",
    "    Enn=mol.nuclear_repulsion_energy()\n",
    "    \n",
    "    #Boucle convergence\n",
    "    F=H\n",
    "    for n_iter in range(max_iter):\n",
    "\n",
    "\n",
    "        \n",
    "        #Calcul de la nouvelle matrice densité\n",
    "        f=new_fock_matrix(F,X)\n",
    "        C=coef_matrix(f,X)\n",
    "        P=new_density_matrix(C,Bas_n,N)\n",
    "        \n",
    "        #Matrice de Fock\n",
    "        G=G_matrix(P,v)\n",
    "        F=H+G\n",
    "        \n",
    "        #Calcul de l'énergie\n",
    "        Old_Energy=New_Energy \n",
    "        New_Energy=0.5*np.trace(np.matmul(P,H+F))\n",
    "        \n",
    "        #Condition de convergence\n",
    "        \n",
    "        if n_iter!=0 and (abs(New_Energy-Old_Energy)<lim):\n",
    "            #print('Converged after', n_iter,'iterations')\n",
    "            #print(np.matmul(np.linalg.inv(C),np.matmul(F,C)))\n",
    "            return(New_Energy+Enn,C,P,F)\n",
    "    print('Did not converge')\n",
    "    return(New_Energy+Enn,C,P,F)\n",
    "\n",
    "hide_toggle()"
   ]
  },
  {
   "cell_type": "code",
   "execution_count": 25,
   "id": "6c5dd530",
   "metadata": {},
   "outputs": [
    {
     "data": {
      "text/html": [
       "\n",
       "        <script>\n",
       "            function code_toggle_11215286403591596874() {\n",
       "                $('div.cell.code_cell.rendered.selected').find('div.input').toggle();\n",
       "            }\n",
       "\n",
       "            \n",
       "        </script>\n",
       "\n",
       "        <a href=\"javascript:code_toggle_11215286403591596874()\">Show/Hide</a>\n",
       "    "
      ],
      "text/plain": [
       "<IPython.core.display.HTML object>"
      ]
     },
     "execution_count": 25,
     "metadata": {},
     "output_type": "execute_result"
    }
   ],
   "source": [
    "def Diatomic_Energy(Dist,at1,at2,Basis_set):\n",
    "# géométrie de la molécule\n",
    "    mol = psi4.geometry(\"\"\"\n",
    "    \"\"\"+at1+\"\"\"  0.0 0.0 0.0 \n",
    "    \"\"\"+at2+\"\"\"  0.0 \"\"\"+str(Dist)+\"\"\" 0.0\n",
    "\n",
    "    \"\"\")\n",
    "    \n",
    "\n",
    "    geo_unit = psi4.core.GeometryUnits(0) # Angstrom:0 , bohr:1\n",
    "    null=psi4.core.Molecule.set_units(mol,geo_unit)\n",
    "    null=psi4.core.Molecule.set_molecular_charge(mol,0)\n",
    "    null=psi4.core.Molecule.set_multiplicity(mol,1)\n",
    "    \n",
    "    #Fonction d'onde de la molécule\n",
    "    wf = psi4.core.Wavefunction.build(mol,basis=Basis_set)\n",
    "    mints = psi4.core.MintsHelper(wf.basisset())\n",
    "\n",
    "    #différentes intégrales calculées par psi4\n",
    "    S = np.asarray(mints.ao_overlap())\n",
    "    v = np.asarray(mints.ao_eri())\n",
    "    T = np.asarray(mints.ao_kinetic())\n",
    "    V = np.asarray(mints.ao_potential())\n",
    "    H=T+V\n",
    "    \n",
    "    #Différents paramètres pour l'algo\n",
    "    Bas_n = S.shape[0] #shape(H)=(Bas_n,Bas_n)\n",
    "    N= int(2*wf.nalpha())\n",
    "    lim=10**(-10)\n",
    "    max_iter=100\n",
    "    #calcul des énergies en Ha\n",
    "\n",
    "    HF_energy,C,P,F=SCF_energy(S,v,H,Bas_n,N,lim,max_iter,mol)\n",
    "    MP2_energy=HF_energy - MP_Energy(v,C,H,N,P,F)\n",
    "    #print('dif=',abs(MP2_energy-psi4.energy('mp2/'+Basis_set+'') ))\n",
    "    return(MP_Energy(v,C,H,N,P,F))\n",
    "    #return(psi4.energy('mp2/'+Basis_set+''))\n",
    "\n",
    "\n",
    "hide_toggle()"
   ]
  },
  {
   "cell_type": "code",
   "execution_count": 17,
   "id": "ec50bf2f",
   "metadata": {},
   "outputs": [
    {
     "data": {
      "text/html": [
       "\n",
       "        <script>\n",
       "            function code_toggle_4254302585292269582() {\n",
       "                $('div.cell.code_cell.rendered.selected').find('div.input').toggle();\n",
       "            }\n",
       "\n",
       "            \n",
       "        </script>\n",
       "\n",
       "        <a href=\"javascript:code_toggle_4254302585292269582()\">Show/Hide</a>\n",
       "    "
      ],
      "text/plain": [
       "<IPython.core.display.HTML object>"
      ]
     },
     "execution_count": 17,
     "metadata": {},
     "output_type": "execute_result"
    }
   ],
   "source": [
    "def water(Theta,Dist):\n",
    "    mol = psi4.geometry(\"\"\"\n",
    "    O  0.0  0.0  0.0\n",
    "    H  \"\"\"+str(Dist)+\"\"\"  0.0  0.0\n",
    "    H  \"\"\"+str(Dist*np.cos(Theta))+\"\"\"  \"\"\"+str(Dist*np.sin(Theta))+\"\"\"  0.0\n",
    "\n",
    "    \"\"\")\n",
    "\n",
    "    \n",
    "    geo_unit = psi4.core.GeometryUnits(0) # Angstrom:0 , bohr:1\n",
    "    null=psi4.core.Molecule.set_units(mol,geo_unit)\n",
    "    null=psi4.core.Molecule.set_molecular_charge(mol,0)\n",
    "    null=psi4.core.Molecule.set_multiplicity(mol,1)\n",
    "  \n",
    "\n",
    "\n",
    "    #Fonction d'onde de la molécule\n",
    "    wf = psi4.core.Wavefunction.build(mol,basis='sto-3g')\n",
    "    mints = psi4.core.MintsHelper(wf.basisset())\n",
    "\n",
    "    #différentes intégrales calculées par psi4\n",
    "    S = np.asarray(mints.ao_overlap())\n",
    "    v = np.asarray(mints.ao_eri())\n",
    "    T = np.asarray(mints.ao_kinetic())\n",
    "    V = np.asarray(mints.ao_potential())\n",
    "    H=T+V\n",
    "    \n",
    "    #Différents paramètres pour l'algo\n",
    "    Bas_n = S.shape[0] #shape(H)=(Bas_n,Bas_n)\n",
    "    N= int(2*wf.nalpha())\n",
    "    lim=10**(-12)\n",
    "    max_iter=100\n",
    "    #calcul des énergies en Ha\n",
    "\n",
    "    HF_energy,C,P,F=SCF_energy(S,v,H,Bas_n,N,lim,max_iter,mol)\n",
    "    MP2_energy=HF_energy - MP_Energy(v,C,H,N,P,F)\n",
    "    return(MP2_energy)\n",
    "    #return(SCF_energy(S,v,H,Bas_n,N,lim,max_iter,mol))\n",
    "hide_toggle()"
   ]
  },
  {
   "cell_type": "code",
   "execution_count": 35,
   "id": "1eb1ba76",
   "metadata": {},
   "outputs": [],
   "source": [
    "def Two_e_int_MO(v,C):\n",
    "    v = v.transpose(0, 2, 1, 3)\n",
    "    INLS=np.einsum('mi,mnls->imls',C,v)\n",
    "    IJLS=np.einsum('nj,inls->ijls',C,INLS)\n",
    "    IJKS=np.einsum('lk,ijls->ijks',C,IJLS)\n",
    "    IJKL=np.einsum('sl,ijks->ijkl',C,IJKS)\n",
    "    return(IJKL)\n",
    "    #return(np.einsum(\"uvkl, up, vq, kr, ls -> pqrs\", v, C,C, C, C))\n",
    "\n",
    "def FMatrix_OM2(H,v_OM,C,P):\n",
    "    C_conj=np.conjugate(C)\n",
    "    H_OM=np.einsum('im,jn,mn->ij',C_conj,C,H)\n",
    "    G_OM=G_matrix(P,v_OM) #P 2*np.identity(np.shape(P)[1])\n",
    "    \n",
    "    F_OM=H_OM+G_OM\n",
    "    return(F_OM)\n",
    "\n",
    "def FMatrix_OM(F,C):\n",
    "    return(np.matmul(np.linalg.inv(C),np.matmul(F,C)))\n",
    "\n",
    "def MP_Energy(v,C,H,N,P,F):\n",
    "    n_OM=int(np.shape(C)[1])\n",
    "    v_OM=Two_e_int_MO(v,C)\n",
    "    MP=0\n",
    "    F_OM=FMatrix_OM(F,C)\n",
    "    En_OM=np.einsum('ii->i',F_OM)\n",
    "    for a in range(int(N/2)):\n",
    "        for b in range(int(N/2)):\n",
    "            for r in range(int(N/2),n_OM):\n",
    "                for s in range(int(N/2),n_OM):\n",
    "                    MP+=(v_OM[a,b,r,s]*(2*v_OM[r,s,a,b]-v_OM[r,s,b,a]))/(En_OM[r]+En_OM[s]-En_OM[a]-En_OM[b])\n",
    "    return(MP)                 "
   ]
  },
  {
   "cell_type": "code",
   "execution_count": 38,
   "id": "2979c019",
   "metadata": {},
   "outputs": [
    {
     "name": "stdout",
     "output_type": "stream",
     "text": [
      "0.3\n",
      "0.4275862068965517\n",
      "0.5551724137931034\n",
      "0.6827586206896552\n",
      "0.8103448275862069\n",
      "0.9379310344827587\n",
      "1.0655172413793104\n",
      "1.193103448275862\n",
      "1.3206896551724139\n",
      "1.4482758620689655\n",
      "1.5758620689655174\n",
      "1.703448275862069\n",
      "1.8310344827586207\n",
      "1.9586206896551726\n",
      "2.086206896551724\n",
      "2.213793103448276\n",
      "2.3413793103448275\n",
      "2.4689655172413794\n",
      "2.596551724137931\n",
      "2.7241379310344827\n",
      "2.8517241379310345\n",
      "2.979310344827586\n",
      "3.106896551724138\n",
      "3.2344827586206897\n",
      "3.362068965517241\n",
      "3.489655172413793\n",
      "3.617241379310345\n",
      "3.7448275862068967\n",
      "3.872413793103448\n",
      "4.0\n"
     ]
    }
   ],
   "source": [
    "psi4.set_memory('500 MB')\n",
    "#liste de distance et listes pour les énergies\n",
    "Dist_list=np.linspace(0.3,4,num=30)\n",
    "Energy_list=[]\n",
    "\n",
    "for Dist in Dist_list:\n",
    "    psi4.core.clean()\n",
    "    Energy_list.append(Diatomic_Energy(Dist,'H','H','cc-pvdz'))\n",
    "    print(Dist)"
   ]
  },
  {
   "cell_type": "code",
   "execution_count": 39,
   "id": "87bd85f4",
   "metadata": {},
   "outputs": [
    {
     "name": "stdout",
     "output_type": "stream",
     "text": [
      "[9.64024744 5.02331952 2.60789713 1.20440421 0.59203178 0.37123885\n",
      " 0.29201255 0.26029423 0.24523605 0.23684763 0.2315291  0.22753794\n",
      " 0.22425044 0.22202688 0.22136462 0.22241693 0.22507493 0.22912338\n",
      " 0.23432609 0.24046504 0.24735605 0.25484993 0.2628249  0.27117616\n",
      " 0.27980744 0.28862683 0.29754641 0.30648443 0.3153682  0.32413711]\n"
     ]
    },
    {
     "data": {
      "image/png": "[encoded data removed]",
      "text/plain": [
       "<Figure size 640x480 with 1 Axes>"
      ]
     },
     "metadata": {},
     "output_type": "display_data"
    }
   ],
   "source": [
    "plt.plot(Dist_list,np.asarray(Energy_list))\n",
    "print(np.asarray(Energy_list))"
   ]
  },
  {
   "cell_type": "code",
   "execution_count": 23,
   "id": "a46a21b0",
   "metadata": {},
   "outputs": [
    {
     "name": "stdout",
     "output_type": "stream",
     "text": [
      "[ 2.64180934 -0.23087424 -0.86781584 -1.07575571 -1.14311688 -1.15499061\n",
      " -1.14324509 -1.12160222 -1.0965392  -1.07120604 -1.04711772 -1.02499623\n",
      " -1.00518087 -0.98780076 -0.9728478  -0.96022878 -0.94981038 -0.9414485\n",
      " -0.93500097 -0.93033043 -0.92730347 -0.92578938 -0.92565934 -0.92678603\n",
      " -0.92904355 -0.93230773 -0.93645712 -0.94137445 -0.94694864 -0.95307668]\n"
     ]
    },
    {
     "data": {
      "image/png": "[encoded data removed]",
      "text/plain": [
       "<Figure size 640x480 with 1 Axes>"
      ]
     },
     "metadata": {},
     "output_type": "display_data"
    }
   ],
   "source": [
    "plt.plot(Dist_list,np.asarray(Energy_list))\n",
    "print(np.asarray(Energy_list))"
   ]
  },
  {
   "cell_type": "code",
   "execution_count": null,
   "id": "65014a6d",
   "metadata": {},
   "outputs": [],
   "source": []
  }
 ],
 "metadata": {
  "kernelspec": {
   "display_name": "Python 3 (ipykernel)",
   "language": "python",
   "name": "python3"
  },
  "language_info": {
   "codemirror_mode": {
    "name": "ipython",
    "version": 3
   },
   "file_extension": ".py",
   "mimetype": "text/x-python",
   "name": "python",
   "nbconvert_exporter": "python",
   "pygments_lexer": "ipython3",
   "version": "3.8.16"
  }
 },
 "nbformat": 4,
 "nbformat_minor": 5
}
