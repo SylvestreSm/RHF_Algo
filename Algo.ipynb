{
 "cells": [
  {
   "cell_type": "code",
   "execution_count": 9,
   "id": "7fa0e570",
   "metadata": {},
   "outputs": [],
   "source": [
    "import numpy as np\n",
    "import psi4\n",
    "from matplotlib import pyplot as plt\n"
   ]
  },
  {
   "cell_type": "code",
   "execution_count": 10,
   "id": "6d97e49b",
   "metadata": {},
   "outputs": [],
   "source": [
    "# fonction calcul X=Us^-1/2U^dagger à partir de matrice overlap S, une matrice overlap n'a que des\n",
    "# valeurs propres strictement positives (définie positive), donc pas de problèmes pour calculer s=np.diag(1/np.sqrt(evalues))\n",
    "\n",
    "    \n",
    "def verif_X_matrix(X,S):\n",
    "    Xh=np.conjugate(X.T)\n",
    "    n=len(X)\n",
    "    verif=np.matmul(Xh,np.matmul(S,X))\n",
    "    if (abs(verif-np.identity(n))<10**-14).all():\n",
    "        return True\n",
    "    else:\n",
    "        return(False)\n",
    "##\n",
    "def X_matrix(S):\n",
    "    evalues,U= np.linalg.eigh(S) \n",
    "    s=np.diag(1/np.sqrt(evalues))#matrice diagonale avec l'inverse des racines des valeurs propres\n",
    "\n",
    "    X=np.matmul(np.matmul(U,s),np.conjugate(U.T)) #X=Us^(-1/2)U*\n",
    "    if verif_X_matrix(X,S):\n",
    "        return(X)\n",
    "    else: \n",
    "        return('error')\n",
    "##"
   ]
  },
  {
   "cell_type": "code",
   "execution_count": 11,
   "id": "a2521b7c",
   "metadata": {},
   "outputs": [],
   "source": [
    "#Calcul de F a l'aide de la matrice densité F= H + G\n",
    "def G_matrix(P,v):\n",
    "    n=len(P)\n",
    "    G=np.zeros((n,n))\n",
    "    for i in range(n):\n",
    "        for j in range(n):\n",
    "            G_ij=0\n",
    "            for k in range(n):\n",
    "                for l in range(n):\n",
    "                    G_ij+=P[k,l]*(v[i][j][k][l]-0.5*v[i][l][k][j])\n",
    "            G[i,j]=G_ij\n",
    "    return(G)\n",
    "    \n",
    "#fonction calcul  F'=X*FX\n",
    "\n",
    "def new_fock_matrix(F,X):\n",
    "    FX=np.matmul(F,X)\n",
    "    return(np.matmul(np.conjugate(X.T),FX))\n",
    "##"
   ]
  },
  {
   "cell_type": "code",
   "execution_count": 12,
   "id": "ecb92250",
   "metadata": {},
   "outputs": [],
   "source": [
    "#calcul matrice C des coefs\n",
    "\n",
    "def coef_matrix(f,X):\n",
    "    energy,c=np.linalg.eigh(f)\n",
    "    C=np.matmul(X,c)\n",
    "    return(C)"
   ]
  },
  {
   "cell_type": "code",
   "execution_count": 13,
   "id": "d813e50d",
   "metadata": {},
   "outputs": [],
   "source": [
    "#calcul nouvelle matrice densité\n",
    "#def new_density_matrix(C):\n",
    "#    return(2*np.matmul(C,np.conjugate(C.T)))\n",
    "\n",
    "def new_density_matrix(C,Bas_n,N):\n",
    "    P=np.zeros_like(C)\n",
    "    Cd=np.conjugate(C.T)\n",
    "    for i in range(Bas_n):\n",
    "        for j in range(Bas_n):\n",
    "            for a in range(int(N/2)):\n",
    "                P[i,j]+=2*C[i,a]*C[j,a]\n",
    "\n",
    "    \n",
    "    return(P)"
   ]
  },
  {
   "cell_type": "code",
   "execution_count": 14,
   "id": "15c91013",
   "metadata": {},
   "outputs": [],
   "source": [
    "#convergence de l'algo avec le commutateur\n",
    "def convergence(F,P,S,lim):\n",
    "    if (P==0).all():\n",
    "        return False\n",
    "    FPS=np.matmul(F,np.matmul(P,S))\n",
    "    SPF=np.matmul(S,np.matmul(P,F))\n",
    "    if (abs(FPS-SPF)<=lim).all():\n",
    "        return True\n",
    "    else:\n",
    "        return False\n",
    "    \n",
    "\n",
    "    "
   ]
  },
  {
   "cell_type": "code",
   "execution_count": 15,
   "id": "ff002385",
   "metadata": {},
   "outputs": [
    {
     "data": {
      "text/plain": [
       "500000000"
      ]
     },
     "execution_count": 15,
     "metadata": {},
     "output_type": "execute_result"
    }
   ],
   "source": [
    "psi4.set_memory('500 MB')"
   ]
  },
  {
   "cell_type": "code",
   "execution_count": 16,
   "id": "caf44bed",
   "metadata": {},
   "outputs": [],
   "source": [
    "def SCF_procedure_energy(S,v,H,Bas_n,N,lim,max_iter):\n",
    "    X=X_matrix(S)\n",
    "    P=np.zeros_like(H)\n",
    "    converged=False\n",
    "    n_iter=0\n",
    "    \n",
    "    while (not converged) and (n_iter<max_iter):\n",
    "        n_iter+=1\n",
    "        G=G_matrix(P,v)\n",
    "        F=H+G\n",
    "        converged=convergence(F,P,S,lim)\n",
    "        f=new_fock_matrix(F,X)\n",
    "        C=coef_matrix(f,X)\n",
    "        P=new_density_matrix(C,Bas_n,N)\n",
    "    \n",
    "    return(0.5*np.trace(np.matmul(P,H+F))+mol.nuclear_repulsion_energy())"
   ]
  },
  {
   "cell_type": "code",
   "execution_count": 17,
   "id": "15fea018",
   "metadata": {},
   "outputs": [],
   "source": [
    "Dist_list=np.linspace(0.1,2,num=20)\n",
    "Energy_list=[]\n",
    "Energy_list2=[]\n",
    "for Dist in Dist_list:\n",
    "    \n",
    "    mol = psi4.geometry(\"\"\"\n",
    "    H  0.0  0.000000  0.0\n",
    "    H  \"\"\"+ str(Dist) +\"\"\"  0.000000  0.0\n",
    "\n",
    "    \"\"\")\n",
    "\n",
    "\n",
    "    geo_unit = psi4.core.GeometryUnits(0) # Angstrom:0 , bohr:1\n",
    "    null=psi4.core.Molecule.set_units(mol,geo_unit)\n",
    "    null=psi4.core.Molecule.set_molecular_charge(mol,0)\n",
    "    null=psi4.core.Molecule.set_multiplicity(mol,1)\n",
    "    wf = psi4.core.Wavefunction.build(mol,basis='sto-3g')\n",
    "    mints = psi4.core.MintsHelper(wf.basisset())\n",
    "\n",
    "\n",
    "    #Overlap\n",
    "    S = np.array(mints.ao_overlap())\n",
    "    # Intégrales biélectroniques (ERI: Electronic Repulsion Integrals)\n",
    "    v = np.asarray(mints.ao_eri())\n",
    "    # intégrale monoéléctronique\n",
    "    T = np.asarray(mints.ao_kinetic())\n",
    "    V = np.asarray(mints.ao_potential())\n",
    "    H=T+V\n",
    "    Bas_n = S.shape[0]\n",
    "    N= int(2*wf.nalpha())\n",
    "    lim=10**(-14)\n",
    "    max_iter=20\n",
    "    Energy_list.append(SCF_procedure_energy(S,v,H,Bas_n,N,lim,max_iter))\n",
    "    Energy_list2.append(psi4.energy('hf/sto-3g'))"
   ]
  },
  {
   "cell_type": "code",
   "execution_count": 20,
   "id": "2793a3ce",
   "metadata": {},
   "outputs": [
    {
     "data": {
      "text/plain": [
       "[<matplotlib.lines.Line2D at 0x2221ee91550>]"
      ]
     },
     "execution_count": 20,
     "metadata": {},
     "output_type": "execute_result"
    },
    {
     "data": {
      "image/png": "[encoded data removed]",
      "text/plain": [
       "<Figure size 640x480 with 1 Axes>"
      ]
     },
     "metadata": {},
     "output_type": "display_data"
    }
   ],
   "source": [
    "plt.plot(Dist_list, np.asarray(Energy_list2))\n"
   ]
  },
  {
   "cell_type": "code",
   "execution_count": 21,
   "id": "c26730cb",
   "metadata": {},
   "outputs": [
    {
     "data": {
      "text/plain": [
       "[<matplotlib.lines.Line2D at 0x2221ef03040>]"
      ]
     },
     "execution_count": 21,
     "metadata": {},
     "output_type": "execute_result"
    },
    {
     "data": {
      "image/png": "[encoded data removed]",
      "text/plain": [
       "<Figure size 640x480 with 1 Axes>"
      ]
     },
     "metadata": {},
     "output_type": "display_data"
    }
   ],
   "source": [
    "plt.plot(Dist_list,np.asarray(Energy_list))"
   ]
  },
  {
   "cell_type": "code",
   "execution_count": null,
   "id": "9752512b",
   "metadata": {},
   "outputs": [],
   "source": []
  }
 ],
 "metadata": {
  "kernelspec": {
   "display_name": "Python 3 (ipykernel)",
   "language": "python",
   "name": "python3"
  },
  "language_info": {
   "codemirror_mode": {
    "name": "ipython",
    "version": 3
   },
   "file_extension": ".py",
   "mimetype": "text/x-python",
   "name": "python",
   "nbconvert_exporter": "python",
   "pygments_lexer": "ipython3",
   "version": "3.8.16"
  }
 },
 "nbformat": 4,
 "nbformat_minor": 5
}
